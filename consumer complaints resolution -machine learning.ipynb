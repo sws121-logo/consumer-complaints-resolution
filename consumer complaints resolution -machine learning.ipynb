{
 "cells": [
  {
   "cell_type": "code",
   "execution_count": 3,
   "id": "8f4191a6",
   "metadata": {},
   "outputs": [],
   "source": [
    "import pandas as pd\n",
    "import numpy as np"
   ]
  },
  {
   "cell_type": "code",
   "execution_count": 4,
   "id": "8f4b415c",
   "metadata": {},
   "outputs": [],
   "source": [
    "import warnings\n",
    "warnings.filterwarnings('ignore')"
   ]
  },
  {
   "cell_type": "code",
   "execution_count": 5,
   "id": "ea981465",
   "metadata": {},
   "outputs": [
    {
     "data": {
      "text/html": [
       "<div>\n",
       "<style scoped>\n",
       "    .dataframe tbody tr th:only-of-type {\n",
       "        vertical-align: middle;\n",
       "    }\n",
       "\n",
       "    .dataframe tbody tr th {\n",
       "        vertical-align: top;\n",
       "    }\n",
       "\n",
       "    .dataframe thead th {\n",
       "        text-align: right;\n",
       "    }\n",
       "</style>\n",
       "<table border=\"1\" class=\"dataframe\">\n",
       "  <thead>\n",
       "    <tr style=\"text-align: right;\">\n",
       "      <th></th>\n",
       "      <th>Date received</th>\n",
       "      <th>Product</th>\n",
       "      <th>Sub-product</th>\n",
       "      <th>Issue</th>\n",
       "      <th>Sub-issue</th>\n",
       "      <th>Consumer complaint narrative</th>\n",
       "      <th>Company public response</th>\n",
       "      <th>Company</th>\n",
       "      <th>State</th>\n",
       "      <th>ZIP code</th>\n",
       "      <th>Tags</th>\n",
       "      <th>Consumer consent provided?</th>\n",
       "      <th>Submitted via</th>\n",
       "      <th>Date sent to company</th>\n",
       "      <th>Company response to consumer</th>\n",
       "      <th>Timely response?</th>\n",
       "      <th>Consumer disputed?</th>\n",
       "      <th>Complaint ID</th>\n",
       "    </tr>\n",
       "  </thead>\n",
       "  <tbody>\n",
       "    <tr>\n",
       "      <th>0</th>\n",
       "      <td>2015-10-14</td>\n",
       "      <td>Credit reporting</td>\n",
       "      <td>NaN</td>\n",
       "      <td>Incorrect information on credit report</td>\n",
       "      <td>Information is not mine</td>\n",
       "      <td>NaN</td>\n",
       "      <td>NaN</td>\n",
       "      <td>Equifax</td>\n",
       "      <td>GA</td>\n",
       "      <td>30134</td>\n",
       "      <td>NaN</td>\n",
       "      <td>Consent not provided</td>\n",
       "      <td>Web</td>\n",
       "      <td>2015-10-14</td>\n",
       "      <td>Closed with explanation</td>\n",
       "      <td>Yes</td>\n",
       "      <td>No</td>\n",
       "      <td>1605653</td>\n",
       "    </tr>\n",
       "    <tr>\n",
       "      <th>1</th>\n",
       "      <td>2015-04-26</td>\n",
       "      <td>Bank account or service</td>\n",
       "      <td>Other bank product/service</td>\n",
       "      <td>Deposits and withdrawals</td>\n",
       "      <td>NaN</td>\n",
       "      <td>RE : XXXX XXXX XXXX-PRIVILEGED AND CONFIDENTIA...</td>\n",
       "      <td>NaN</td>\n",
       "      <td>Wells Fargo &amp; Company</td>\n",
       "      <td>GA</td>\n",
       "      <td>319XX</td>\n",
       "      <td>NaN</td>\n",
       "      <td>Consent provided</td>\n",
       "      <td>Web</td>\n",
       "      <td>2015-04-26</td>\n",
       "      <td>Closed with explanation</td>\n",
       "      <td>Yes</td>\n",
       "      <td>Yes</td>\n",
       "      <td>1347613</td>\n",
       "    </tr>\n",
       "    <tr>\n",
       "      <th>2</th>\n",
       "      <td>2013-12-20</td>\n",
       "      <td>Credit card</td>\n",
       "      <td>NaN</td>\n",
       "      <td>Other</td>\n",
       "      <td>NaN</td>\n",
       "      <td>NaN</td>\n",
       "      <td>NaN</td>\n",
       "      <td>Citibank</td>\n",
       "      <td>SC</td>\n",
       "      <td>29203</td>\n",
       "      <td>NaN</td>\n",
       "      <td>NaN</td>\n",
       "      <td>Phone</td>\n",
       "      <td>2014-01-03</td>\n",
       "      <td>Closed with non-monetary relief</td>\n",
       "      <td>Yes</td>\n",
       "      <td>No</td>\n",
       "      <td>640394</td>\n",
       "    </tr>\n",
       "    <tr>\n",
       "      <th>3</th>\n",
       "      <td>2016-03-03</td>\n",
       "      <td>Debt collection</td>\n",
       "      <td>Other (i.e. phone, health club, etc.)</td>\n",
       "      <td>Disclosure verification of debt</td>\n",
       "      <td>Not given enough info to verify debt</td>\n",
       "      <td>NaN</td>\n",
       "      <td>Company has responded to the consumer and the ...</td>\n",
       "      <td>FAIR COLLECTIONS &amp; OUTSOURCING, INC.</td>\n",
       "      <td>OH</td>\n",
       "      <td>43082</td>\n",
       "      <td>NaN</td>\n",
       "      <td>NaN</td>\n",
       "      <td>Referral</td>\n",
       "      <td>2016-03-04</td>\n",
       "      <td>Closed with explanation</td>\n",
       "      <td>Yes</td>\n",
       "      <td>No</td>\n",
       "      <td>1815134</td>\n",
       "    </tr>\n",
       "    <tr>\n",
       "      <th>4</th>\n",
       "      <td>2015-01-30</td>\n",
       "      <td>Debt collection</td>\n",
       "      <td>Medical</td>\n",
       "      <td>Disclosure verification of debt</td>\n",
       "      <td>Not given enough info to verify debt</td>\n",
       "      <td>NaN</td>\n",
       "      <td>NaN</td>\n",
       "      <td>HCFS Health Care Financial Services, Inc.</td>\n",
       "      <td>CA</td>\n",
       "      <td>90036</td>\n",
       "      <td>NaN</td>\n",
       "      <td>NaN</td>\n",
       "      <td>Web</td>\n",
       "      <td>2015-01-30</td>\n",
       "      <td>Closed with explanation</td>\n",
       "      <td>Yes</td>\n",
       "      <td>Yes</td>\n",
       "      <td>1218613</td>\n",
       "    </tr>\n",
       "  </tbody>\n",
       "</table>\n",
       "</div>"
      ],
      "text/plain": [
       "  Date received                  Product  \\\n",
       "0    2015-10-14         Credit reporting   \n",
       "1    2015-04-26  Bank account or service   \n",
       "2    2013-12-20              Credit card   \n",
       "3    2016-03-03          Debt collection   \n",
       "4    2015-01-30          Debt collection   \n",
       "\n",
       "                             Sub-product  \\\n",
       "0                                    NaN   \n",
       "1             Other bank product/service   \n",
       "2                                    NaN   \n",
       "3  Other (i.e. phone, health club, etc.)   \n",
       "4                                Medical   \n",
       "\n",
       "                                    Issue  \\\n",
       "0  Incorrect information on credit report   \n",
       "1                Deposits and withdrawals   \n",
       "2                                   Other   \n",
       "3         Disclosure verification of debt   \n",
       "4         Disclosure verification of debt   \n",
       "\n",
       "                              Sub-issue  \\\n",
       "0               Information is not mine   \n",
       "1                                   NaN   \n",
       "2                                   NaN   \n",
       "3  Not given enough info to verify debt   \n",
       "4  Not given enough info to verify debt   \n",
       "\n",
       "                        Consumer complaint narrative  \\\n",
       "0                                                NaN   \n",
       "1  RE : XXXX XXXX XXXX-PRIVILEGED AND CONFIDENTIA...   \n",
       "2                                                NaN   \n",
       "3                                                NaN   \n",
       "4                                                NaN   \n",
       "\n",
       "                             Company public response  \\\n",
       "0                                                NaN   \n",
       "1                                                NaN   \n",
       "2                                                NaN   \n",
       "3  Company has responded to the consumer and the ...   \n",
       "4                                                NaN   \n",
       "\n",
       "                                     Company State ZIP code Tags  \\\n",
       "0                                    Equifax    GA    30134  NaN   \n",
       "1                      Wells Fargo & Company    GA    319XX  NaN   \n",
       "2                                   Citibank    SC    29203  NaN   \n",
       "3       FAIR COLLECTIONS & OUTSOURCING, INC.    OH    43082  NaN   \n",
       "4  HCFS Health Care Financial Services, Inc.    CA    90036  NaN   \n",
       "\n",
       "  Consumer consent provided? Submitted via Date sent to company  \\\n",
       "0       Consent not provided           Web           2015-10-14   \n",
       "1           Consent provided           Web           2015-04-26   \n",
       "2                        NaN         Phone           2014-01-03   \n",
       "3                        NaN      Referral           2016-03-04   \n",
       "4                        NaN           Web           2015-01-30   \n",
       "\n",
       "      Company response to consumer Timely response? Consumer disputed?  \\\n",
       "0          Closed with explanation              Yes                 No   \n",
       "1          Closed with explanation              Yes                Yes   \n",
       "2  Closed with non-monetary relief              Yes                 No   \n",
       "3          Closed with explanation              Yes                 No   \n",
       "4          Closed with explanation              Yes                Yes   \n",
       "\n",
       "   Complaint ID  \n",
       "0       1605653  \n",
       "1       1347613  \n",
       "2        640394  \n",
       "3       1815134  \n",
       "4       1218613  "
      ]
     },
     "execution_count": 5,
     "metadata": {},
     "output_type": "execute_result"
    }
   ],
   "source": [
    "# Task-1 Read the Data from the Given excel file.\n",
    "df=pd.read_csv('Consumer_Complaints_train.csv')\n",
    "df.head()"
   ]
  },
  {
   "cell_type": "code",
   "execution_count": 6,
   "id": "d6617617",
   "metadata": {},
   "outputs": [
    {
     "data": {
      "text/html": [
       "<div>\n",
       "<style scoped>\n",
       "    .dataframe tbody tr th:only-of-type {\n",
       "        vertical-align: middle;\n",
       "    }\n",
       "\n",
       "    .dataframe tbody tr th {\n",
       "        vertical-align: top;\n",
       "    }\n",
       "\n",
       "    .dataframe thead th {\n",
       "        text-align: right;\n",
       "    }\n",
       "</style>\n",
       "<table border=\"1\" class=\"dataframe\">\n",
       "  <thead>\n",
       "    <tr style=\"text-align: right;\">\n",
       "      <th></th>\n",
       "      <th>Date received</th>\n",
       "      <th>Product</th>\n",
       "      <th>Sub-product</th>\n",
       "      <th>Issue</th>\n",
       "      <th>Sub-issue</th>\n",
       "      <th>Consumer complaint narrative</th>\n",
       "      <th>Company public response</th>\n",
       "      <th>Company</th>\n",
       "      <th>State</th>\n",
       "      <th>ZIP code</th>\n",
       "      <th>Tags</th>\n",
       "      <th>Consumer consent provided?</th>\n",
       "      <th>Submitted via</th>\n",
       "      <th>Date sent to company</th>\n",
       "      <th>Company response to consumer</th>\n",
       "      <th>Timely response?</th>\n",
       "      <th>Complaint ID</th>\n",
       "    </tr>\n",
       "  </thead>\n",
       "  <tbody>\n",
       "    <tr>\n",
       "      <th>0</th>\n",
       "      <td>2015-01-17</td>\n",
       "      <td>Credit card</td>\n",
       "      <td>NaN</td>\n",
       "      <td>Customer service / Customer relations</td>\n",
       "      <td>NaN</td>\n",
       "      <td>NaN</td>\n",
       "      <td>NaN</td>\n",
       "      <td>Citibank</td>\n",
       "      <td>TX</td>\n",
       "      <td>75241</td>\n",
       "      <td>NaN</td>\n",
       "      <td>NaN</td>\n",
       "      <td>Web</td>\n",
       "      <td>2015-01-17</td>\n",
       "      <td>Closed with monetary relief</td>\n",
       "      <td>Yes</td>\n",
       "      <td>1198133</td>\n",
       "    </tr>\n",
       "    <tr>\n",
       "      <th>1</th>\n",
       "      <td>2016-06-22</td>\n",
       "      <td>Consumer Loan</td>\n",
       "      <td>Title loan</td>\n",
       "      <td>Payment to acct not credited</td>\n",
       "      <td>NaN</td>\n",
       "      <td>NaN</td>\n",
       "      <td>Company believes it acted appropriately as aut...</td>\n",
       "      <td>Larsen MacColl Partners II, L.P.</td>\n",
       "      <td>TX</td>\n",
       "      <td>76548</td>\n",
       "      <td>Servicemember</td>\n",
       "      <td>NaN</td>\n",
       "      <td>Phone</td>\n",
       "      <td>2016-06-22</td>\n",
       "      <td>Closed with explanation</td>\n",
       "      <td>Yes</td>\n",
       "      <td>1979989</td>\n",
       "    </tr>\n",
       "    <tr>\n",
       "      <th>2</th>\n",
       "      <td>2015-09-04</td>\n",
       "      <td>Credit card</td>\n",
       "      <td>NaN</td>\n",
       "      <td>Credit line increase/decrease</td>\n",
       "      <td>NaN</td>\n",
       "      <td>I WANT TO REQUEST A CREDIT LINE INCREASE OF XX...</td>\n",
       "      <td>NaN</td>\n",
       "      <td>Capital One</td>\n",
       "      <td>NC</td>\n",
       "      <td>271XX</td>\n",
       "      <td>NaN</td>\n",
       "      <td>Consent provided</td>\n",
       "      <td>Web</td>\n",
       "      <td>2015-09-04</td>\n",
       "      <td>Closed with explanation</td>\n",
       "      <td>Yes</td>\n",
       "      <td>1552090</td>\n",
       "    </tr>\n",
       "    <tr>\n",
       "      <th>3</th>\n",
       "      <td>2016-05-17</td>\n",
       "      <td>Consumer Loan</td>\n",
       "      <td>Installment loan</td>\n",
       "      <td>Problems when you are unable to pay</td>\n",
       "      <td>NaN</td>\n",
       "      <td>I have asked One Main Financial not to call my...</td>\n",
       "      <td>NaN</td>\n",
       "      <td>OneMain Financial Holdings, LLC</td>\n",
       "      <td>MO</td>\n",
       "      <td>634XX</td>\n",
       "      <td>NaN</td>\n",
       "      <td>Consent provided</td>\n",
       "      <td>Web</td>\n",
       "      <td>2016-05-20</td>\n",
       "      <td>Closed with non-monetary relief</td>\n",
       "      <td>Yes</td>\n",
       "      <td>1929306</td>\n",
       "    </tr>\n",
       "    <tr>\n",
       "      <th>4</th>\n",
       "      <td>2016-07-07</td>\n",
       "      <td>Debt collection</td>\n",
       "      <td>Other (i.e. phone, health club, etc.)</td>\n",
       "      <td>Improper contact or sharing of info</td>\n",
       "      <td>Contacted employer after asked not to</td>\n",
       "      <td>I have received several calls from a XXXX XXXX...</td>\n",
       "      <td>Company has responded to the consumer and the ...</td>\n",
       "      <td>GMA Investments, LLC</td>\n",
       "      <td>SC</td>\n",
       "      <td>296XX</td>\n",
       "      <td>NaN</td>\n",
       "      <td>Consent provided</td>\n",
       "      <td>Web</td>\n",
       "      <td>2016-07-07</td>\n",
       "      <td>Closed with explanation</td>\n",
       "      <td>Yes</td>\n",
       "      <td>2001667</td>\n",
       "    </tr>\n",
       "  </tbody>\n",
       "</table>\n",
       "</div>"
      ],
      "text/plain": [
       "  Date received          Product                            Sub-product  \\\n",
       "0    2015-01-17      Credit card                                    NaN   \n",
       "1    2016-06-22    Consumer Loan                             Title loan   \n",
       "2    2015-09-04      Credit card                                    NaN   \n",
       "3    2016-05-17    Consumer Loan                       Installment loan   \n",
       "4    2016-07-07  Debt collection  Other (i.e. phone, health club, etc.)   \n",
       "\n",
       "                                   Issue  \\\n",
       "0  Customer service / Customer relations   \n",
       "1           Payment to acct not credited   \n",
       "2          Credit line increase/decrease   \n",
       "3    Problems when you are unable to pay   \n",
       "4    Improper contact or sharing of info   \n",
       "\n",
       "                               Sub-issue  \\\n",
       "0                                    NaN   \n",
       "1                                    NaN   \n",
       "2                                    NaN   \n",
       "3                                    NaN   \n",
       "4  Contacted employer after asked not to   \n",
       "\n",
       "                        Consumer complaint narrative  \\\n",
       "0                                                NaN   \n",
       "1                                                NaN   \n",
       "2  I WANT TO REQUEST A CREDIT LINE INCREASE OF XX...   \n",
       "3  I have asked One Main Financial not to call my...   \n",
       "4  I have received several calls from a XXXX XXXX...   \n",
       "\n",
       "                             Company public response  \\\n",
       "0                                                NaN   \n",
       "1  Company believes it acted appropriately as aut...   \n",
       "2                                                NaN   \n",
       "3                                                NaN   \n",
       "4  Company has responded to the consumer and the ...   \n",
       "\n",
       "                            Company State ZIP code           Tags  \\\n",
       "0                          Citibank    TX    75241            NaN   \n",
       "1  Larsen MacColl Partners II, L.P.    TX    76548  Servicemember   \n",
       "2                       Capital One    NC    271XX            NaN   \n",
       "3   OneMain Financial Holdings, LLC    MO    634XX            NaN   \n",
       "4              GMA Investments, LLC    SC    296XX            NaN   \n",
       "\n",
       "  Consumer consent provided? Submitted via Date sent to company  \\\n",
       "0                        NaN           Web           2015-01-17   \n",
       "1                        NaN         Phone           2016-06-22   \n",
       "2           Consent provided           Web           2015-09-04   \n",
       "3           Consent provided           Web           2016-05-20   \n",
       "4           Consent provided           Web           2016-07-07   \n",
       "\n",
       "      Company response to consumer Timely response?  Complaint ID  \n",
       "0      Closed with monetary relief              Yes       1198133  \n",
       "1          Closed with explanation              Yes       1979989  \n",
       "2          Closed with explanation              Yes       1552090  \n",
       "3  Closed with non-monetary relief              Yes       1929306  \n",
       "4          Closed with explanation              Yes       2001667  "
      ]
     },
     "execution_count": 6,
     "metadata": {},
     "output_type": "execute_result"
    }
   ],
   "source": [
    "df1=pd.read_csv('Consumer_Complaints_test.csv')\n",
    "df1.head()"
   ]
  },
  {
   "cell_type": "code",
   "execution_count": null,
   "id": "4c6868e7",
   "metadata": {},
   "outputs": [],
   "source": []
  },
  {
   "cell_type": "code",
   "execution_count": 5,
   "id": "8dd3d355",
   "metadata": {},
   "outputs": [
    {
     "data": {
      "text/plain": [
       "Date received                   object\n",
       "Product                         object\n",
       "Sub-product                     object\n",
       "Issue                           object\n",
       "Sub-issue                       object\n",
       "Consumer complaint narrative    object\n",
       "Company public response         object\n",
       "Company                         object\n",
       "State                           object\n",
       "ZIP code                        object\n",
       "Tags                            object\n",
       "Consumer consent provided?      object\n",
       "Submitted via                   object\n",
       "Date sent to company            object\n",
       "Company response to consumer    object\n",
       "Timely response?                object\n",
       "Consumer disputed?              object\n",
       "Complaint ID                     int64\n",
       "dtype: object"
      ]
     },
     "execution_count": 5,
     "metadata": {},
     "output_type": "execute_result"
    }
   ],
   "source": [
    "# Task-2Check the data type for both data (test file and train file)\n",
    "df.dtypes"
   ]
  },
  {
   "cell_type": "code",
   "execution_count": 6,
   "id": "c5786c7e",
   "metadata": {},
   "outputs": [
    {
     "data": {
      "text/plain": [
       "Date received                   object\n",
       "Product                         object\n",
       "Sub-product                     object\n",
       "Issue                           object\n",
       "Sub-issue                       object\n",
       "Consumer complaint narrative    object\n",
       "Company public response         object\n",
       "Company                         object\n",
       "State                           object\n",
       "ZIP code                        object\n",
       "Tags                            object\n",
       "Consumer consent provided?      object\n",
       "Submitted via                   object\n",
       "Date sent to company            object\n",
       "Company response to consumer    object\n",
       "Timely response?                object\n",
       "Complaint ID                     int64\n",
       "dtype: object"
      ]
     },
     "execution_count": 6,
     "metadata": {},
     "output_type": "execute_result"
    }
   ],
   "source": [
    "df1.dtypes"
   ]
  },
  {
   "cell_type": "code",
   "execution_count": 7,
   "id": "be358358",
   "metadata": {},
   "outputs": [
    {
     "data": {
      "text/html": [
       "<div>\n",
       "<style scoped>\n",
       "    .dataframe tbody tr th:only-of-type {\n",
       "        vertical-align: middle;\n",
       "    }\n",
       "\n",
       "    .dataframe tbody tr th {\n",
       "        vertical-align: top;\n",
       "    }\n",
       "\n",
       "    .dataframe thead th {\n",
       "        text-align: right;\n",
       "    }\n",
       "</style>\n",
       "<table border=\"1\" class=\"dataframe\">\n",
       "  <thead>\n",
       "    <tr style=\"text-align: right;\">\n",
       "      <th></th>\n",
       "      <th>Complaint ID</th>\n",
       "    </tr>\n",
       "  </thead>\n",
       "  <tbody>\n",
       "    <tr>\n",
       "      <th>count</th>\n",
       "      <td>3.588100e+05</td>\n",
       "    </tr>\n",
       "    <tr>\n",
       "      <th>mean</th>\n",
       "      <td>1.043850e+06</td>\n",
       "    </tr>\n",
       "    <tr>\n",
       "      <th>std</th>\n",
       "      <td>5.945511e+05</td>\n",
       "    </tr>\n",
       "    <tr>\n",
       "      <th>min</th>\n",
       "      <td>5.000000e+00</td>\n",
       "    </tr>\n",
       "    <tr>\n",
       "      <th>25%</th>\n",
       "      <td>5.339312e+05</td>\n",
       "    </tr>\n",
       "    <tr>\n",
       "      <th>50%</th>\n",
       "      <td>1.064641e+06</td>\n",
       "    </tr>\n",
       "    <tr>\n",
       "      <th>75%</th>\n",
       "      <td>1.561380e+06</td>\n",
       "    </tr>\n",
       "    <tr>\n",
       "      <th>max</th>\n",
       "      <td>2.126221e+06</td>\n",
       "    </tr>\n",
       "  </tbody>\n",
       "</table>\n",
       "</div>"
      ],
      "text/plain": [
       "       Complaint ID\n",
       "count  3.588100e+05\n",
       "mean   1.043850e+06\n",
       "std    5.945511e+05\n",
       "min    5.000000e+00\n",
       "25%    5.339312e+05\n",
       "50%    1.064641e+06\n",
       "75%    1.561380e+06\n",
       "max    2.126221e+06"
      ]
     },
     "execution_count": 7,
     "metadata": {},
     "output_type": "execute_result"
    }
   ],
   "source": [
    "df.describe()"
   ]
  },
  {
   "cell_type": "code",
   "execution_count": 8,
   "id": "43205106",
   "metadata": {},
   "outputs": [],
   "source": [
    "new_df=df.append(df1)"
   ]
  },
  {
   "cell_type": "code",
   "execution_count": 221,
   "id": "1ca5e9ee",
   "metadata": {},
   "outputs": [
    {
     "data": {
      "text/plain": [
       "Date received                   0.000000\n",
       "Product                         0.000000\n",
       "Sub-product                     0.289251\n",
       "Issue                           0.000000\n",
       "Sub-issue                       0.611393\n",
       "Consumer complaint narrative    0.843427\n",
       "Company public response         0.810677\n",
       "Company                         0.000000\n",
       "State                           0.008091\n",
       "ZIP code                        0.008113\n",
       "Tags                            0.860021\n",
       "Consumer consent provided?      0.716898\n",
       "Submitted via                   0.000000\n",
       "Date sent to company            0.000000\n",
       "Company response to consumer    0.000000\n",
       "Timely response?                0.000000\n",
       "Consumer disputed?              0.000000\n",
       "Complaint ID                    0.000000\n",
       "dtype: float64"
      ]
     },
     "execution_count": 221,
     "metadata": {},
     "output_type": "execute_result"
    }
   ],
   "source": [
    "# Task-3 Do missing value analysis and drop columns where more than 25% of data are missing\n",
    "df.isnull().mean()"
   ]
  },
  {
   "cell_type": "code",
   "execution_count": 7,
   "id": "5dc8849f",
   "metadata": {
    "scrolled": true
   },
   "outputs": [],
   "source": [
    "df.drop(['Sub-issue','Sub-product','Consumer complaint narrative','Company public response','Tags','Consumer consent provided?'],axis=1,inplace=True)"
   ]
  },
  {
   "cell_type": "code",
   "execution_count": 11,
   "id": "5cddb211",
   "metadata": {},
   "outputs": [
    {
     "data": {
      "text/plain": [
       "Date received                      0\n",
       "Product                            0\n",
       "Issue                              0\n",
       "Company                            0\n",
       "State                           2903\n",
       "ZIP code                        2911\n",
       "Submitted via                      0\n",
       "Date sent to company               0\n",
       "Company response to consumer       0\n",
       "Timely response?                   0\n",
       "Consumer disputed?                 0\n",
       "Complaint ID                       0\n",
       "dtype: int64"
      ]
     },
     "execution_count": 11,
     "metadata": {},
     "output_type": "execute_result"
    }
   ],
   "source": [
    "df.isnull().sum()"
   ]
  },
  {
   "cell_type": "code",
   "execution_count": 12,
   "id": "950b706f",
   "metadata": {},
   "outputs": [
    {
     "data": {
      "text/plain": [
       "Date received                   0.000000\n",
       "Product                         0.000000\n",
       "Sub-product                     0.289977\n",
       "Issue                           0.000000\n",
       "Sub-issue                       0.612427\n",
       "Consumer complaint narrative    0.841864\n",
       "Company public response         0.812217\n",
       "Company                         0.000000\n",
       "State                           0.007826\n",
       "ZIP code                        0.007834\n",
       "Tags                            0.858059\n",
       "Consumer consent provided?      0.716511\n",
       "Submitted via                   0.000000\n",
       "Date sent to company            0.000000\n",
       "Company response to consumer    0.000000\n",
       "Timely response?                0.000000\n",
       "Complaint ID                    0.000000\n",
       "dtype: float64"
      ]
     },
     "execution_count": 12,
     "metadata": {},
     "output_type": "execute_result"
    }
   ],
   "source": [
    "df1.isnull().mean()"
   ]
  },
  {
   "cell_type": "code",
   "execution_count": 8,
   "id": "f31d467f",
   "metadata": {},
   "outputs": [],
   "source": [
    "df1.drop(['Sub-product','Sub-issue','Consumer complaint narrative','Company public response','Tags','Consumer consent provided?'],axis=1,inplace=True)"
   ]
  },
  {
   "cell_type": "code",
   "execution_count": 14,
   "id": "6f9df9df",
   "metadata": {},
   "outputs": [
    {
     "data": {
      "text/plain": [
       "Date received                     0\n",
       "Product                           0\n",
       "Issue                             0\n",
       "Company                           0\n",
       "State                           936\n",
       "ZIP code                        937\n",
       "Submitted via                     0\n",
       "Date sent to company              0\n",
       "Company response to consumer      0\n",
       "Timely response?                  0\n",
       "Complaint ID                      0\n",
       "dtype: int64"
      ]
     },
     "execution_count": 14,
     "metadata": {},
     "output_type": "execute_result"
    }
   ],
   "source": [
    "df1.isnull().sum()"
   ]
  },
  {
   "cell_type": "code",
   "execution_count": 9,
   "id": "6dbd077e",
   "metadata": {},
   "outputs": [
    {
     "data": {
      "text/html": [
       "<div>\n",
       "<style scoped>\n",
       "    .dataframe tbody tr th:only-of-type {\n",
       "        vertical-align: middle;\n",
       "    }\n",
       "\n",
       "    .dataframe tbody tr th {\n",
       "        vertical-align: top;\n",
       "    }\n",
       "\n",
       "    .dataframe thead th {\n",
       "        text-align: right;\n",
       "    }\n",
       "</style>\n",
       "<table border=\"1\" class=\"dataframe\">\n",
       "  <thead>\n",
       "    <tr style=\"text-align: right;\">\n",
       "      <th></th>\n",
       "      <th>Date received</th>\n",
       "      <th>Product</th>\n",
       "      <th>Issue</th>\n",
       "      <th>Company</th>\n",
       "      <th>State</th>\n",
       "      <th>ZIP code</th>\n",
       "      <th>Submitted via</th>\n",
       "      <th>Date sent to company</th>\n",
       "      <th>Company response to consumer</th>\n",
       "      <th>Timely response?</th>\n",
       "      <th>Consumer disputed?</th>\n",
       "      <th>Complaint ID</th>\n",
       "    </tr>\n",
       "  </thead>\n",
       "  <tbody>\n",
       "    <tr>\n",
       "      <th>0</th>\n",
       "      <td>2015-10-14</td>\n",
       "      <td>Credit reporting</td>\n",
       "      <td>Incorrect information on credit report</td>\n",
       "      <td>Equifax</td>\n",
       "      <td>GA</td>\n",
       "      <td>30134</td>\n",
       "      <td>Web</td>\n",
       "      <td>2015-10-14</td>\n",
       "      <td>Closed with explanation</td>\n",
       "      <td>Yes</td>\n",
       "      <td>No</td>\n",
       "      <td>1605653</td>\n",
       "    </tr>\n",
       "    <tr>\n",
       "      <th>1</th>\n",
       "      <td>2015-04-26</td>\n",
       "      <td>Bank account or service</td>\n",
       "      <td>Deposits and withdrawals</td>\n",
       "      <td>Wells Fargo &amp; Company</td>\n",
       "      <td>GA</td>\n",
       "      <td>319XX</td>\n",
       "      <td>Web</td>\n",
       "      <td>2015-04-26</td>\n",
       "      <td>Closed with explanation</td>\n",
       "      <td>Yes</td>\n",
       "      <td>Yes</td>\n",
       "      <td>1347613</td>\n",
       "    </tr>\n",
       "    <tr>\n",
       "      <th>2</th>\n",
       "      <td>2013-12-20</td>\n",
       "      <td>Credit card</td>\n",
       "      <td>Other</td>\n",
       "      <td>Citibank</td>\n",
       "      <td>SC</td>\n",
       "      <td>29203</td>\n",
       "      <td>Phone</td>\n",
       "      <td>2014-01-03</td>\n",
       "      <td>Closed with non-monetary relief</td>\n",
       "      <td>Yes</td>\n",
       "      <td>No</td>\n",
       "      <td>640394</td>\n",
       "    </tr>\n",
       "    <tr>\n",
       "      <th>3</th>\n",
       "      <td>2016-03-03</td>\n",
       "      <td>Debt collection</td>\n",
       "      <td>Disclosure verification of debt</td>\n",
       "      <td>FAIR COLLECTIONS &amp; OUTSOURCING, INC.</td>\n",
       "      <td>OH</td>\n",
       "      <td>43082</td>\n",
       "      <td>Referral</td>\n",
       "      <td>2016-03-04</td>\n",
       "      <td>Closed with explanation</td>\n",
       "      <td>Yes</td>\n",
       "      <td>No</td>\n",
       "      <td>1815134</td>\n",
       "    </tr>\n",
       "    <tr>\n",
       "      <th>4</th>\n",
       "      <td>2015-01-30</td>\n",
       "      <td>Debt collection</td>\n",
       "      <td>Disclosure verification of debt</td>\n",
       "      <td>HCFS Health Care Financial Services, Inc.</td>\n",
       "      <td>CA</td>\n",
       "      <td>90036</td>\n",
       "      <td>Web</td>\n",
       "      <td>2015-01-30</td>\n",
       "      <td>Closed with explanation</td>\n",
       "      <td>Yes</td>\n",
       "      <td>Yes</td>\n",
       "      <td>1218613</td>\n",
       "    </tr>\n",
       "    <tr>\n",
       "      <th>5</th>\n",
       "      <td>2014-01-10</td>\n",
       "      <td>Credit card</td>\n",
       "      <td>APR or interest rate</td>\n",
       "      <td>TD Bank US Holding Company</td>\n",
       "      <td>FL</td>\n",
       "      <td>33180</td>\n",
       "      <td>Web</td>\n",
       "      <td>2014-01-15</td>\n",
       "      <td>Closed with explanation</td>\n",
       "      <td>Yes</td>\n",
       "      <td>Yes</td>\n",
       "      <td>663281</td>\n",
       "    </tr>\n",
       "    <tr>\n",
       "      <th>6</th>\n",
       "      <td>2016-02-03</td>\n",
       "      <td>Mortgage</td>\n",
       "      <td>Loan modification,collection,foreclosure</td>\n",
       "      <td>Ocwen</td>\n",
       "      <td>NJ</td>\n",
       "      <td>071XX</td>\n",
       "      <td>Web</td>\n",
       "      <td>2016-02-03</td>\n",
       "      <td>Closed with explanation</td>\n",
       "      <td>Yes</td>\n",
       "      <td>No</td>\n",
       "      <td>1771444</td>\n",
       "    </tr>\n",
       "    <tr>\n",
       "      <th>7</th>\n",
       "      <td>2015-12-07</td>\n",
       "      <td>Credit card</td>\n",
       "      <td>Payoff process</td>\n",
       "      <td>Capital One</td>\n",
       "      <td>IL</td>\n",
       "      <td>60610</td>\n",
       "      <td>Web</td>\n",
       "      <td>2015-12-07</td>\n",
       "      <td>Closed with explanation</td>\n",
       "      <td>Yes</td>\n",
       "      <td>Yes</td>\n",
       "      <td>1685130</td>\n",
       "    </tr>\n",
       "    <tr>\n",
       "      <th>8</th>\n",
       "      <td>2012-04-05</td>\n",
       "      <td>Bank account or service</td>\n",
       "      <td>Deposits and withdrawals</td>\n",
       "      <td>Citizens Financial Group, Inc.</td>\n",
       "      <td>PA</td>\n",
       "      <td>18337</td>\n",
       "      <td>Web</td>\n",
       "      <td>2012-04-05</td>\n",
       "      <td>Closed with relief</td>\n",
       "      <td>Yes</td>\n",
       "      <td>Yes</td>\n",
       "      <td>44225</td>\n",
       "    </tr>\n",
       "    <tr>\n",
       "      <th>9</th>\n",
       "      <td>2015-08-13</td>\n",
       "      <td>Debt collection</td>\n",
       "      <td>Cont'd attempts collect debt not owed</td>\n",
       "      <td>Grant &amp; Weber</td>\n",
       "      <td>CA</td>\n",
       "      <td>91302</td>\n",
       "      <td>Web</td>\n",
       "      <td>2015-08-20</td>\n",
       "      <td>Closed with explanation</td>\n",
       "      <td>Yes</td>\n",
       "      <td>No</td>\n",
       "      <td>1518460</td>\n",
       "    </tr>\n",
       "    <tr>\n",
       "      <th>10</th>\n",
       "      <td>2016-06-10</td>\n",
       "      <td>Credit reporting</td>\n",
       "      <td>Incorrect information on credit report</td>\n",
       "      <td>Experian</td>\n",
       "      <td>ID</td>\n",
       "      <td>83705</td>\n",
       "      <td>Web</td>\n",
       "      <td>2016-06-10</td>\n",
       "      <td>Closed with non-monetary relief</td>\n",
       "      <td>Yes</td>\n",
       "      <td>No</td>\n",
       "      <td>1962098</td>\n",
       "    </tr>\n",
       "    <tr>\n",
       "      <th>11</th>\n",
       "      <td>2015-11-12</td>\n",
       "      <td>Debt collection</td>\n",
       "      <td>Cont'd attempts collect debt not owed</td>\n",
       "      <td>ERC</td>\n",
       "      <td>ID</td>\n",
       "      <td>838XX</td>\n",
       "      <td>Web</td>\n",
       "      <td>2015-11-16</td>\n",
       "      <td>Closed with non-monetary relief</td>\n",
       "      <td>Yes</td>\n",
       "      <td>No</td>\n",
       "      <td>1651884</td>\n",
       "    </tr>\n",
       "    <tr>\n",
       "      <th>12</th>\n",
       "      <td>2015-07-22</td>\n",
       "      <td>Consumer Loan</td>\n",
       "      <td>Taking out the loan or lease</td>\n",
       "      <td>American Honda Finance Corporation</td>\n",
       "      <td>UT</td>\n",
       "      <td>840XX</td>\n",
       "      <td>Web</td>\n",
       "      <td>2015-07-22</td>\n",
       "      <td>Closed with explanation</td>\n",
       "      <td>Yes</td>\n",
       "      <td>Yes</td>\n",
       "      <td>1481520</td>\n",
       "    </tr>\n",
       "    <tr>\n",
       "      <th>13</th>\n",
       "      <td>2015-07-07</td>\n",
       "      <td>Credit reporting</td>\n",
       "      <td>Incorrect information on credit report</td>\n",
       "      <td>TransUnion Intermediate Holdings, Inc.</td>\n",
       "      <td>TX</td>\n",
       "      <td>75038</td>\n",
       "      <td>Web</td>\n",
       "      <td>2015-07-07</td>\n",
       "      <td>Closed with explanation</td>\n",
       "      <td>Yes</td>\n",
       "      <td>No</td>\n",
       "      <td>1454021</td>\n",
       "    </tr>\n",
       "    <tr>\n",
       "      <th>14</th>\n",
       "      <td>2013-10-08</td>\n",
       "      <td>Mortgage</td>\n",
       "      <td>Loan modification,collection,foreclosure</td>\n",
       "      <td>BB&amp;T Financial</td>\n",
       "      <td>TN</td>\n",
       "      <td>37738</td>\n",
       "      <td>Referral</td>\n",
       "      <td>2013-10-08</td>\n",
       "      <td>Closed with explanation</td>\n",
       "      <td>Yes</td>\n",
       "      <td>No</td>\n",
       "      <td>554994</td>\n",
       "    </tr>\n",
       "    <tr>\n",
       "      <th>15</th>\n",
       "      <td>2012-02-29</td>\n",
       "      <td>Credit card</td>\n",
       "      <td>Credit card protection / Debt protection</td>\n",
       "      <td>JPMorgan Chase &amp; Co.</td>\n",
       "      <td>NM</td>\n",
       "      <td>87048</td>\n",
       "      <td>Web</td>\n",
       "      <td>2012-02-29</td>\n",
       "      <td>Closed without relief</td>\n",
       "      <td>Yes</td>\n",
       "      <td>No</td>\n",
       "      <td>19621</td>\n",
       "    </tr>\n",
       "    <tr>\n",
       "      <th>16</th>\n",
       "      <td>2015-06-22</td>\n",
       "      <td>Mortgage</td>\n",
       "      <td>Loan modification,collection,foreclosure</td>\n",
       "      <td>Wells Fargo &amp; Company</td>\n",
       "      <td>VA</td>\n",
       "      <td>23061</td>\n",
       "      <td>Web</td>\n",
       "      <td>2015-06-22</td>\n",
       "      <td>Closed with explanation</td>\n",
       "      <td>Yes</td>\n",
       "      <td>No</td>\n",
       "      <td>1431857</td>\n",
       "    </tr>\n",
       "    <tr>\n",
       "      <th>17</th>\n",
       "      <td>2013-12-07</td>\n",
       "      <td>Debt collection</td>\n",
       "      <td>Communication tactics</td>\n",
       "      <td>U.S. Bancorp</td>\n",
       "      <td>CA</td>\n",
       "      <td>91335</td>\n",
       "      <td>Web</td>\n",
       "      <td>2013-12-27</td>\n",
       "      <td>Closed with explanation</td>\n",
       "      <td>Yes</td>\n",
       "      <td>No</td>\n",
       "      <td>625240</td>\n",
       "    </tr>\n",
       "    <tr>\n",
       "      <th>18</th>\n",
       "      <td>2013-03-28</td>\n",
       "      <td>Mortgage</td>\n",
       "      <td>Loan modification,collection,foreclosure</td>\n",
       "      <td>Bank of America</td>\n",
       "      <td>FL</td>\n",
       "      <td>32258</td>\n",
       "      <td>Referral</td>\n",
       "      <td>2013-03-29</td>\n",
       "      <td>Closed with explanation</td>\n",
       "      <td>Yes</td>\n",
       "      <td>No</td>\n",
       "      <td>368870</td>\n",
       "    </tr>\n",
       "    <tr>\n",
       "      <th>19</th>\n",
       "      <td>2014-08-26</td>\n",
       "      <td>Bank account or service</td>\n",
       "      <td>Problems caused by my funds being low</td>\n",
       "      <td>Regions Financial Corporation</td>\n",
       "      <td>TN</td>\n",
       "      <td>38474</td>\n",
       "      <td>Referral</td>\n",
       "      <td>2014-09-02</td>\n",
       "      <td>Closed with monetary relief</td>\n",
       "      <td>Yes</td>\n",
       "      <td>No</td>\n",
       "      <td>1000886</td>\n",
       "    </tr>\n",
       "    <tr>\n",
       "      <th>20</th>\n",
       "      <td>2012-11-27</td>\n",
       "      <td>Mortgage</td>\n",
       "      <td>Loan servicing, payments, escrow account</td>\n",
       "      <td>Wells Fargo &amp; Company</td>\n",
       "      <td>MO</td>\n",
       "      <td>63119</td>\n",
       "      <td>Referral</td>\n",
       "      <td>2012-12-03</td>\n",
       "      <td>Closed with explanation</td>\n",
       "      <td>Yes</td>\n",
       "      <td>No</td>\n",
       "      <td>198392</td>\n",
       "    </tr>\n",
       "    <tr>\n",
       "      <th>21</th>\n",
       "      <td>2012-01-06</td>\n",
       "      <td>Mortgage</td>\n",
       "      <td>Application, originator, mortgage broker</td>\n",
       "      <td>Bank of America</td>\n",
       "      <td>CA</td>\n",
       "      <td>90814</td>\n",
       "      <td>Web</td>\n",
       "      <td>2012-01-09</td>\n",
       "      <td>Closed without relief</td>\n",
       "      <td>Yes</td>\n",
       "      <td>Yes</td>\n",
       "      <td>10631</td>\n",
       "    </tr>\n",
       "    <tr>\n",
       "      <th>22</th>\n",
       "      <td>2012-12-12</td>\n",
       "      <td>Credit card</td>\n",
       "      <td>Billing disputes</td>\n",
       "      <td>Amex</td>\n",
       "      <td>OH</td>\n",
       "      <td>44240</td>\n",
       "      <td>Referral</td>\n",
       "      <td>2012-12-14</td>\n",
       "      <td>Closed with monetary relief</td>\n",
       "      <td>Yes</td>\n",
       "      <td>No</td>\n",
       "      <td>210215</td>\n",
       "    </tr>\n",
       "    <tr>\n",
       "      <th>23</th>\n",
       "      <td>2015-04-01</td>\n",
       "      <td>Debt collection</td>\n",
       "      <td>Disclosure verification of debt</td>\n",
       "      <td>Portfolio Recovery Associates, Inc.</td>\n",
       "      <td>UT</td>\n",
       "      <td>840XX</td>\n",
       "      <td>Web</td>\n",
       "      <td>2015-04-01</td>\n",
       "      <td>Closed with non-monetary relief</td>\n",
       "      <td>Yes</td>\n",
       "      <td>Yes</td>\n",
       "      <td>1312001</td>\n",
       "    </tr>\n",
       "    <tr>\n",
       "      <th>24</th>\n",
       "      <td>2013-12-04</td>\n",
       "      <td>Credit card</td>\n",
       "      <td>Identity theft / Fraud / Embezzlement</td>\n",
       "      <td>U.S. Bancorp</td>\n",
       "      <td>KY</td>\n",
       "      <td>41622</td>\n",
       "      <td>Web</td>\n",
       "      <td>2013-12-03</td>\n",
       "      <td>Closed with explanation</td>\n",
       "      <td>Yes</td>\n",
       "      <td>No</td>\n",
       "      <td>622329</td>\n",
       "    </tr>\n",
       "    <tr>\n",
       "      <th>25</th>\n",
       "      <td>2013-04-19</td>\n",
       "      <td>Mortgage</td>\n",
       "      <td>Loan modification,collection,foreclosure</td>\n",
       "      <td>Bank of America</td>\n",
       "      <td>MN</td>\n",
       "      <td>56063</td>\n",
       "      <td>Referral</td>\n",
       "      <td>2013-04-22</td>\n",
       "      <td>Closed with explanation</td>\n",
       "      <td>Yes</td>\n",
       "      <td>No</td>\n",
       "      <td>386882</td>\n",
       "    </tr>\n",
       "    <tr>\n",
       "      <th>26</th>\n",
       "      <td>2014-07-30</td>\n",
       "      <td>Consumer Loan</td>\n",
       "      <td>Problems when you are unable to pay</td>\n",
       "      <td>United PanAm Financial Corp.</td>\n",
       "      <td>IN</td>\n",
       "      <td>46545</td>\n",
       "      <td>Web</td>\n",
       "      <td>2014-07-30</td>\n",
       "      <td>Closed with non-monetary relief</td>\n",
       "      <td>Yes</td>\n",
       "      <td>No</td>\n",
       "      <td>960100</td>\n",
       "    </tr>\n",
       "    <tr>\n",
       "      <th>27</th>\n",
       "      <td>2015-08-04</td>\n",
       "      <td>Debt collection</td>\n",
       "      <td>Communication tactics</td>\n",
       "      <td>Citibank</td>\n",
       "      <td>UT</td>\n",
       "      <td>840XX</td>\n",
       "      <td>Web</td>\n",
       "      <td>2015-08-04</td>\n",
       "      <td>Closed with non-monetary relief</td>\n",
       "      <td>Yes</td>\n",
       "      <td>Yes</td>\n",
       "      <td>1502087</td>\n",
       "    </tr>\n",
       "    <tr>\n",
       "      <th>28</th>\n",
       "      <td>2013-03-07</td>\n",
       "      <td>Bank account or service</td>\n",
       "      <td>Account opening, closing, or management</td>\n",
       "      <td>Wells Fargo &amp; Company</td>\n",
       "      <td>MD</td>\n",
       "      <td>20876</td>\n",
       "      <td>Referral</td>\n",
       "      <td>2013-03-11</td>\n",
       "      <td>Closed with explanation</td>\n",
       "      <td>Yes</td>\n",
       "      <td>No</td>\n",
       "      <td>345515</td>\n",
       "    </tr>\n",
       "    <tr>\n",
       "      <th>29</th>\n",
       "      <td>2016-03-23</td>\n",
       "      <td>Debt collection</td>\n",
       "      <td>Taking/threatening an illegal action</td>\n",
       "      <td>Eltman Law, P.C.</td>\n",
       "      <td>FL</td>\n",
       "      <td>33155</td>\n",
       "      <td>Web</td>\n",
       "      <td>2016-03-23</td>\n",
       "      <td>Closed with explanation</td>\n",
       "      <td>Yes</td>\n",
       "      <td>No</td>\n",
       "      <td>1846563</td>\n",
       "    </tr>\n",
       "    <tr>\n",
       "      <th>30</th>\n",
       "      <td>2014-05-14</td>\n",
       "      <td>Credit card</td>\n",
       "      <td>Unsolicited issuance of credit card</td>\n",
       "      <td>Capital One</td>\n",
       "      <td>CA</td>\n",
       "      <td>92336</td>\n",
       "      <td>Web</td>\n",
       "      <td>2014-05-14</td>\n",
       "      <td>Closed with non-monetary relief</td>\n",
       "      <td>Yes</td>\n",
       "      <td>No</td>\n",
       "      <td>852376</td>\n",
       "    </tr>\n",
       "    <tr>\n",
       "      <th>31</th>\n",
       "      <td>2014-10-13</td>\n",
       "      <td>Consumer Loan</td>\n",
       "      <td>Managing the loan or lease</td>\n",
       "      <td>Ally Financial Inc.</td>\n",
       "      <td>PA</td>\n",
       "      <td>15044</td>\n",
       "      <td>Web</td>\n",
       "      <td>2014-10-13</td>\n",
       "      <td>Closed with monetary relief</td>\n",
       "      <td>Yes</td>\n",
       "      <td>No</td>\n",
       "      <td>1068640</td>\n",
       "    </tr>\n",
       "    <tr>\n",
       "      <th>32</th>\n",
       "      <td>2015-02-21</td>\n",
       "      <td>Consumer Loan</td>\n",
       "      <td>Managing the loan or lease</td>\n",
       "      <td>Fifth Third Financial Corporation</td>\n",
       "      <td>TX</td>\n",
       "      <td>75204</td>\n",
       "      <td>Web</td>\n",
       "      <td>2015-02-21</td>\n",
       "      <td>Closed with non-monetary relief</td>\n",
       "      <td>Yes</td>\n",
       "      <td>No</td>\n",
       "      <td>1250817</td>\n",
       "    </tr>\n",
       "    <tr>\n",
       "      <th>33</th>\n",
       "      <td>2015-02-12</td>\n",
       "      <td>Payday loan</td>\n",
       "      <td>Payment to acct not credited</td>\n",
       "      <td>ACE Cash Express Inc.</td>\n",
       "      <td>CA</td>\n",
       "      <td>93550</td>\n",
       "      <td>Web</td>\n",
       "      <td>2015-02-12</td>\n",
       "      <td>Closed</td>\n",
       "      <td>Yes</td>\n",
       "      <td>No</td>\n",
       "      <td>1238570</td>\n",
       "    </tr>\n",
       "    <tr>\n",
       "      <th>34</th>\n",
       "      <td>2012-02-29</td>\n",
       "      <td>Mortgage</td>\n",
       "      <td>Loan modification,collection,foreclosure</td>\n",
       "      <td>Bank of America</td>\n",
       "      <td>CA</td>\n",
       "      <td>95758</td>\n",
       "      <td>Referral</td>\n",
       "      <td>2012-02-29</td>\n",
       "      <td>Closed without relief</td>\n",
       "      <td>Yes</td>\n",
       "      <td>Yes</td>\n",
       "      <td>28161</td>\n",
       "    </tr>\n",
       "    <tr>\n",
       "      <th>35</th>\n",
       "      <td>2013-06-03</td>\n",
       "      <td>Mortgage</td>\n",
       "      <td>Loan modification,collection,foreclosure</td>\n",
       "      <td>Bank of America</td>\n",
       "      <td>CA</td>\n",
       "      <td>92590</td>\n",
       "      <td>Web</td>\n",
       "      <td>2013-06-05</td>\n",
       "      <td>Closed with explanation</td>\n",
       "      <td>Yes</td>\n",
       "      <td>No</td>\n",
       "      <td>422028</td>\n",
       "    </tr>\n",
       "    <tr>\n",
       "      <th>36</th>\n",
       "      <td>2012-09-14</td>\n",
       "      <td>Mortgage</td>\n",
       "      <td>Loan modification,collection,foreclosure</td>\n",
       "      <td>Bank of America</td>\n",
       "      <td>FL</td>\n",
       "      <td>32408</td>\n",
       "      <td>Web</td>\n",
       "      <td>2012-09-17</td>\n",
       "      <td>Closed with explanation</td>\n",
       "      <td>No</td>\n",
       "      <td>No</td>\n",
       "      <td>153237</td>\n",
       "    </tr>\n",
       "    <tr>\n",
       "      <th>37</th>\n",
       "      <td>2014-12-08</td>\n",
       "      <td>Credit reporting</td>\n",
       "      <td>Incorrect information on credit report</td>\n",
       "      <td>TransUnion Intermediate Holdings, Inc.</td>\n",
       "      <td>WI</td>\n",
       "      <td>53072</td>\n",
       "      <td>Web</td>\n",
       "      <td>2014-12-11</td>\n",
       "      <td>Closed with non-monetary relief</td>\n",
       "      <td>Yes</td>\n",
       "      <td>No</td>\n",
       "      <td>1146406</td>\n",
       "    </tr>\n",
       "    <tr>\n",
       "      <th>38</th>\n",
       "      <td>2014-02-10</td>\n",
       "      <td>Mortgage</td>\n",
       "      <td>Application, originator, mortgage broker</td>\n",
       "      <td>Nationstar Mortgage</td>\n",
       "      <td>NY</td>\n",
       "      <td>11572</td>\n",
       "      <td>Web</td>\n",
       "      <td>2014-02-10</td>\n",
       "      <td>Closed with explanation</td>\n",
       "      <td>Yes</td>\n",
       "      <td>No</td>\n",
       "      <td>706444</td>\n",
       "    </tr>\n",
       "    <tr>\n",
       "      <th>39</th>\n",
       "      <td>2015-08-26</td>\n",
       "      <td>Debt collection</td>\n",
       "      <td>Cont'd attempts collect debt not owed</td>\n",
       "      <td>Portfolio Recovery Associates, Inc.</td>\n",
       "      <td>IL</td>\n",
       "      <td>60656</td>\n",
       "      <td>Web</td>\n",
       "      <td>2015-09-02</td>\n",
       "      <td>Closed with explanation</td>\n",
       "      <td>Yes</td>\n",
       "      <td>No</td>\n",
       "      <td>1538316</td>\n",
       "    </tr>\n",
       "    <tr>\n",
       "      <th>40</th>\n",
       "      <td>2016-02-25</td>\n",
       "      <td>Credit reporting</td>\n",
       "      <td>Incorrect information on credit report</td>\n",
       "      <td>TransUnion Intermediate Holdings, Inc.</td>\n",
       "      <td>NJ</td>\n",
       "      <td>08873</td>\n",
       "      <td>Referral</td>\n",
       "      <td>2016-03-01</td>\n",
       "      <td>Closed with explanation</td>\n",
       "      <td>Yes</td>\n",
       "      <td>No</td>\n",
       "      <td>1804268</td>\n",
       "    </tr>\n",
       "    <tr>\n",
       "      <th>41</th>\n",
       "      <td>2015-07-01</td>\n",
       "      <td>Credit card</td>\n",
       "      <td>Other</td>\n",
       "      <td>Wells Fargo &amp; Company</td>\n",
       "      <td>MD</td>\n",
       "      <td>211XX</td>\n",
       "      <td>Web</td>\n",
       "      <td>2015-07-01</td>\n",
       "      <td>Closed with explanation</td>\n",
       "      <td>Yes</td>\n",
       "      <td>No</td>\n",
       "      <td>1446780</td>\n",
       "    </tr>\n",
       "    <tr>\n",
       "      <th>42</th>\n",
       "      <td>2014-08-11</td>\n",
       "      <td>Mortgage</td>\n",
       "      <td>Loan modification,collection,foreclosure</td>\n",
       "      <td>Nationstar Mortgage</td>\n",
       "      <td>NY</td>\n",
       "      <td>11530</td>\n",
       "      <td>Referral</td>\n",
       "      <td>2014-08-13</td>\n",
       "      <td>Closed with explanation</td>\n",
       "      <td>Yes</td>\n",
       "      <td>No</td>\n",
       "      <td>978041</td>\n",
       "    </tr>\n",
       "    <tr>\n",
       "      <th>43</th>\n",
       "      <td>2015-12-03</td>\n",
       "      <td>Mortgage</td>\n",
       "      <td>Loan servicing, payments, escrow account</td>\n",
       "      <td>Ocwen</td>\n",
       "      <td>CA</td>\n",
       "      <td>94402</td>\n",
       "      <td>Referral</td>\n",
       "      <td>2015-12-08</td>\n",
       "      <td>Closed</td>\n",
       "      <td>Yes</td>\n",
       "      <td>No</td>\n",
       "      <td>1681683</td>\n",
       "    </tr>\n",
       "    <tr>\n",
       "      <th>44</th>\n",
       "      <td>2016-02-05</td>\n",
       "      <td>Mortgage</td>\n",
       "      <td>Loan modification,collection,foreclosure</td>\n",
       "      <td>JPMorgan Chase &amp; Co.</td>\n",
       "      <td>OH</td>\n",
       "      <td>456XX</td>\n",
       "      <td>Web</td>\n",
       "      <td>2016-02-05</td>\n",
       "      <td>Closed with explanation</td>\n",
       "      <td>Yes</td>\n",
       "      <td>No</td>\n",
       "      <td>1772835</td>\n",
       "    </tr>\n",
       "    <tr>\n",
       "      <th>45</th>\n",
       "      <td>2013-01-17</td>\n",
       "      <td>Mortgage</td>\n",
       "      <td>Settlement process and costs</td>\n",
       "      <td>JPMorgan Chase &amp; Co.</td>\n",
       "      <td>TX</td>\n",
       "      <td>76040</td>\n",
       "      <td>Web</td>\n",
       "      <td>2013-01-23</td>\n",
       "      <td>Closed with explanation</td>\n",
       "      <td>Yes</td>\n",
       "      <td>No</td>\n",
       "      <td>242038</td>\n",
       "    </tr>\n",
       "    <tr>\n",
       "      <th>46</th>\n",
       "      <td>2014-01-21</td>\n",
       "      <td>Mortgage</td>\n",
       "      <td>Loan modification,collection,foreclosure</td>\n",
       "      <td>Select Portfolio Servicing, Inc</td>\n",
       "      <td>FL</td>\n",
       "      <td>33712</td>\n",
       "      <td>Web</td>\n",
       "      <td>2014-01-21</td>\n",
       "      <td>Closed with explanation</td>\n",
       "      <td>Yes</td>\n",
       "      <td>Yes</td>\n",
       "      <td>677312</td>\n",
       "    </tr>\n",
       "    <tr>\n",
       "      <th>47</th>\n",
       "      <td>2015-10-09</td>\n",
       "      <td>Credit reporting</td>\n",
       "      <td>Incorrect information on credit report</td>\n",
       "      <td>Experian</td>\n",
       "      <td>TX</td>\n",
       "      <td>774XX</td>\n",
       "      <td>Web</td>\n",
       "      <td>2015-10-09</td>\n",
       "      <td>Closed with non-monetary relief</td>\n",
       "      <td>Yes</td>\n",
       "      <td>No</td>\n",
       "      <td>1600510</td>\n",
       "    </tr>\n",
       "    <tr>\n",
       "      <th>48</th>\n",
       "      <td>2016-07-11</td>\n",
       "      <td>Credit reporting</td>\n",
       "      <td>Incorrect information on credit report</td>\n",
       "      <td>TransUnion Intermediate Holdings, Inc.</td>\n",
       "      <td>FL</td>\n",
       "      <td>339XX</td>\n",
       "      <td>Web</td>\n",
       "      <td>2016-07-11</td>\n",
       "      <td>Closed with explanation</td>\n",
       "      <td>Yes</td>\n",
       "      <td>No</td>\n",
       "      <td>2005896</td>\n",
       "    </tr>\n",
       "    <tr>\n",
       "      <th>49</th>\n",
       "      <td>2014-04-03</td>\n",
       "      <td>Debt collection</td>\n",
       "      <td>Improper contact or sharing of info</td>\n",
       "      <td>First National Bank of Omaha</td>\n",
       "      <td>MO</td>\n",
       "      <td>63122</td>\n",
       "      <td>Web</td>\n",
       "      <td>2014-04-08</td>\n",
       "      <td>Closed with explanation</td>\n",
       "      <td>Yes</td>\n",
       "      <td>Yes</td>\n",
       "      <td>791310</td>\n",
       "    </tr>\n",
       "    <tr>\n",
       "      <th>50</th>\n",
       "      <td>2015-03-08</td>\n",
       "      <td>Credit reporting</td>\n",
       "      <td>Credit reporting company's investigation</td>\n",
       "      <td>Equifax</td>\n",
       "      <td>NJ</td>\n",
       "      <td>08302</td>\n",
       "      <td>Web</td>\n",
       "      <td>2015-03-13</td>\n",
       "      <td>Closed with explanation</td>\n",
       "      <td>Yes</td>\n",
       "      <td>Yes</td>\n",
       "      <td>1272398</td>\n",
       "    </tr>\n",
       "    <tr>\n",
       "      <th>51</th>\n",
       "      <td>2015-05-18</td>\n",
       "      <td>Consumer Loan</td>\n",
       "      <td>Taking out the loan or lease</td>\n",
       "      <td>CashCall, Inc.</td>\n",
       "      <td>FL</td>\n",
       "      <td>331XX</td>\n",
       "      <td>Web</td>\n",
       "      <td>2015-05-19</td>\n",
       "      <td>Closed with explanation</td>\n",
       "      <td>Yes</td>\n",
       "      <td>No</td>\n",
       "      <td>1379997</td>\n",
       "    </tr>\n",
       "    <tr>\n",
       "      <th>52</th>\n",
       "      <td>2015-02-07</td>\n",
       "      <td>Debt collection</td>\n",
       "      <td>Communication tactics</td>\n",
       "      <td>JPMorgan Chase &amp; Co.</td>\n",
       "      <td>CA</td>\n",
       "      <td>93705</td>\n",
       "      <td>Web</td>\n",
       "      <td>2015-02-07</td>\n",
       "      <td>Closed with explanation</td>\n",
       "      <td>Yes</td>\n",
       "      <td>No</td>\n",
       "      <td>1230289</td>\n",
       "    </tr>\n",
       "    <tr>\n",
       "      <th>53</th>\n",
       "      <td>2014-02-13</td>\n",
       "      <td>Credit reporting</td>\n",
       "      <td>Credit reporting company's investigation</td>\n",
       "      <td>TransUnion Intermediate Holdings, Inc.</td>\n",
       "      <td>TX</td>\n",
       "      <td>75203</td>\n",
       "      <td>Web</td>\n",
       "      <td>2014-02-12</td>\n",
       "      <td>Closed with non-monetary relief</td>\n",
       "      <td>Yes</td>\n",
       "      <td>No</td>\n",
       "      <td>712065</td>\n",
       "    </tr>\n",
       "    <tr>\n",
       "      <th>54</th>\n",
       "      <td>2015-07-27</td>\n",
       "      <td>Mortgage</td>\n",
       "      <td>Settlement process and costs</td>\n",
       "      <td>Bank of America</td>\n",
       "      <td>FL</td>\n",
       "      <td>325XX</td>\n",
       "      <td>Web</td>\n",
       "      <td>2015-07-27</td>\n",
       "      <td>Closed with monetary relief</td>\n",
       "      <td>Yes</td>\n",
       "      <td>Yes</td>\n",
       "      <td>1489180</td>\n",
       "    </tr>\n",
       "    <tr>\n",
       "      <th>55</th>\n",
       "      <td>2014-06-23</td>\n",
       "      <td>Debt collection</td>\n",
       "      <td>Cont'd attempts collect debt not owed</td>\n",
       "      <td>Barclays PLC</td>\n",
       "      <td>IL</td>\n",
       "      <td>61432</td>\n",
       "      <td>Web</td>\n",
       "      <td>2014-06-25</td>\n",
       "      <td>Closed with monetary relief</td>\n",
       "      <td>Yes</td>\n",
       "      <td>No</td>\n",
       "      <td>906452</td>\n",
       "    </tr>\n",
       "    <tr>\n",
       "      <th>56</th>\n",
       "      <td>2014-03-25</td>\n",
       "      <td>Student loan</td>\n",
       "      <td>Can't repay my loan</td>\n",
       "      <td>AES/PHEAA</td>\n",
       "      <td>KS</td>\n",
       "      <td>67212</td>\n",
       "      <td>Web</td>\n",
       "      <td>2014-03-25</td>\n",
       "      <td>Closed with explanation</td>\n",
       "      <td>Yes</td>\n",
       "      <td>No</td>\n",
       "      <td>777244</td>\n",
       "    </tr>\n",
       "    <tr>\n",
       "      <th>57</th>\n",
       "      <td>2013-08-15</td>\n",
       "      <td>Mortgage</td>\n",
       "      <td>Loan modification,collection,foreclosure</td>\n",
       "      <td>U.S. Bancorp</td>\n",
       "      <td>CA</td>\n",
       "      <td>92653</td>\n",
       "      <td>Referral</td>\n",
       "      <td>2013-08-21</td>\n",
       "      <td>Closed with explanation</td>\n",
       "      <td>Yes</td>\n",
       "      <td>No</td>\n",
       "      <td>490253</td>\n",
       "    </tr>\n",
       "    <tr>\n",
       "      <th>58</th>\n",
       "      <td>2015-06-09</td>\n",
       "      <td>Mortgage</td>\n",
       "      <td>Loan modification,collection,foreclosure</td>\n",
       "      <td>HSBC North America Holdings Inc.</td>\n",
       "      <td>VA</td>\n",
       "      <td>24073</td>\n",
       "      <td>Referral</td>\n",
       "      <td>2015-06-11</td>\n",
       "      <td>Closed with explanation</td>\n",
       "      <td>Yes</td>\n",
       "      <td>Yes</td>\n",
       "      <td>1412402</td>\n",
       "    </tr>\n",
       "    <tr>\n",
       "      <th>59</th>\n",
       "      <td>2014-04-06</td>\n",
       "      <td>Mortgage</td>\n",
       "      <td>Loan modification,collection,foreclosure</td>\n",
       "      <td>Nationstar Mortgage</td>\n",
       "      <td>CO</td>\n",
       "      <td>80226</td>\n",
       "      <td>Web</td>\n",
       "      <td>2014-04-06</td>\n",
       "      <td>Closed with explanation</td>\n",
       "      <td>Yes</td>\n",
       "      <td>Yes</td>\n",
       "      <td>795636</td>\n",
       "    </tr>\n",
       "  </tbody>\n",
       "</table>\n",
       "</div>"
      ],
      "text/plain": [
       "   Date received                  Product  \\\n",
       "0     2015-10-14         Credit reporting   \n",
       "1     2015-04-26  Bank account or service   \n",
       "2     2013-12-20              Credit card   \n",
       "3     2016-03-03          Debt collection   \n",
       "4     2015-01-30          Debt collection   \n",
       "5     2014-01-10              Credit card   \n",
       "6     2016-02-03                 Mortgage   \n",
       "7     2015-12-07              Credit card   \n",
       "8     2012-04-05  Bank account or service   \n",
       "9     2015-08-13          Debt collection   \n",
       "10    2016-06-10         Credit reporting   \n",
       "11    2015-11-12          Debt collection   \n",
       "12    2015-07-22            Consumer Loan   \n",
       "13    2015-07-07         Credit reporting   \n",
       "14    2013-10-08                 Mortgage   \n",
       "15    2012-02-29              Credit card   \n",
       "16    2015-06-22                 Mortgage   \n",
       "17    2013-12-07          Debt collection   \n",
       "18    2013-03-28                 Mortgage   \n",
       "19    2014-08-26  Bank account or service   \n",
       "20    2012-11-27                 Mortgage   \n",
       "21    2012-01-06                 Mortgage   \n",
       "22    2012-12-12              Credit card   \n",
       "23    2015-04-01          Debt collection   \n",
       "24    2013-12-04              Credit card   \n",
       "25    2013-04-19                 Mortgage   \n",
       "26    2014-07-30            Consumer Loan   \n",
       "27    2015-08-04          Debt collection   \n",
       "28    2013-03-07  Bank account or service   \n",
       "29    2016-03-23          Debt collection   \n",
       "30    2014-05-14              Credit card   \n",
       "31    2014-10-13            Consumer Loan   \n",
       "32    2015-02-21            Consumer Loan   \n",
       "33    2015-02-12              Payday loan   \n",
       "34    2012-02-29                 Mortgage   \n",
       "35    2013-06-03                 Mortgage   \n",
       "36    2012-09-14                 Mortgage   \n",
       "37    2014-12-08         Credit reporting   \n",
       "38    2014-02-10                 Mortgage   \n",
       "39    2015-08-26          Debt collection   \n",
       "40    2016-02-25         Credit reporting   \n",
       "41    2015-07-01              Credit card   \n",
       "42    2014-08-11                 Mortgage   \n",
       "43    2015-12-03                 Mortgage   \n",
       "44    2016-02-05                 Mortgage   \n",
       "45    2013-01-17                 Mortgage   \n",
       "46    2014-01-21                 Mortgage   \n",
       "47    2015-10-09         Credit reporting   \n",
       "48    2016-07-11         Credit reporting   \n",
       "49    2014-04-03          Debt collection   \n",
       "50    2015-03-08         Credit reporting   \n",
       "51    2015-05-18            Consumer Loan   \n",
       "52    2015-02-07          Debt collection   \n",
       "53    2014-02-13         Credit reporting   \n",
       "54    2015-07-27                 Mortgage   \n",
       "55    2014-06-23          Debt collection   \n",
       "56    2014-03-25             Student loan   \n",
       "57    2013-08-15                 Mortgage   \n",
       "58    2015-06-09                 Mortgage   \n",
       "59    2014-04-06                 Mortgage   \n",
       "\n",
       "                                       Issue  \\\n",
       "0     Incorrect information on credit report   \n",
       "1                   Deposits and withdrawals   \n",
       "2                                      Other   \n",
       "3            Disclosure verification of debt   \n",
       "4            Disclosure verification of debt   \n",
       "5                       APR or interest rate   \n",
       "6   Loan modification,collection,foreclosure   \n",
       "7                             Payoff process   \n",
       "8                   Deposits and withdrawals   \n",
       "9      Cont'd attempts collect debt not owed   \n",
       "10    Incorrect information on credit report   \n",
       "11     Cont'd attempts collect debt not owed   \n",
       "12              Taking out the loan or lease   \n",
       "13    Incorrect information on credit report   \n",
       "14  Loan modification,collection,foreclosure   \n",
       "15  Credit card protection / Debt protection   \n",
       "16  Loan modification,collection,foreclosure   \n",
       "17                     Communication tactics   \n",
       "18  Loan modification,collection,foreclosure   \n",
       "19     Problems caused by my funds being low   \n",
       "20  Loan servicing, payments, escrow account   \n",
       "21  Application, originator, mortgage broker   \n",
       "22                          Billing disputes   \n",
       "23           Disclosure verification of debt   \n",
       "24     Identity theft / Fraud / Embezzlement   \n",
       "25  Loan modification,collection,foreclosure   \n",
       "26       Problems when you are unable to pay   \n",
       "27                     Communication tactics   \n",
       "28   Account opening, closing, or management   \n",
       "29      Taking/threatening an illegal action   \n",
       "30       Unsolicited issuance of credit card   \n",
       "31                Managing the loan or lease   \n",
       "32                Managing the loan or lease   \n",
       "33              Payment to acct not credited   \n",
       "34  Loan modification,collection,foreclosure   \n",
       "35  Loan modification,collection,foreclosure   \n",
       "36  Loan modification,collection,foreclosure   \n",
       "37    Incorrect information on credit report   \n",
       "38  Application, originator, mortgage broker   \n",
       "39     Cont'd attempts collect debt not owed   \n",
       "40    Incorrect information on credit report   \n",
       "41                                     Other   \n",
       "42  Loan modification,collection,foreclosure   \n",
       "43  Loan servicing, payments, escrow account   \n",
       "44  Loan modification,collection,foreclosure   \n",
       "45              Settlement process and costs   \n",
       "46  Loan modification,collection,foreclosure   \n",
       "47    Incorrect information on credit report   \n",
       "48    Incorrect information on credit report   \n",
       "49       Improper contact or sharing of info   \n",
       "50  Credit reporting company's investigation   \n",
       "51              Taking out the loan or lease   \n",
       "52                     Communication tactics   \n",
       "53  Credit reporting company's investigation   \n",
       "54              Settlement process and costs   \n",
       "55     Cont'd attempts collect debt not owed   \n",
       "56                       Can't repay my loan   \n",
       "57  Loan modification,collection,foreclosure   \n",
       "58  Loan modification,collection,foreclosure   \n",
       "59  Loan modification,collection,foreclosure   \n",
       "\n",
       "                                      Company State ZIP code Submitted via  \\\n",
       "0                                     Equifax    GA    30134           Web   \n",
       "1                       Wells Fargo & Company    GA    319XX           Web   \n",
       "2                                    Citibank    SC    29203         Phone   \n",
       "3        FAIR COLLECTIONS & OUTSOURCING, INC.    OH    43082      Referral   \n",
       "4   HCFS Health Care Financial Services, Inc.    CA    90036           Web   \n",
       "5                  TD Bank US Holding Company    FL    33180           Web   \n",
       "6                                       Ocwen    NJ    071XX           Web   \n",
       "7                                 Capital One    IL    60610           Web   \n",
       "8              Citizens Financial Group, Inc.    PA    18337           Web   \n",
       "9                               Grant & Weber    CA    91302           Web   \n",
       "10                                   Experian    ID    83705           Web   \n",
       "11                                        ERC    ID    838XX           Web   \n",
       "12         American Honda Finance Corporation    UT    840XX           Web   \n",
       "13     TransUnion Intermediate Holdings, Inc.    TX    75038           Web   \n",
       "14                             BB&T Financial    TN    37738      Referral   \n",
       "15                       JPMorgan Chase & Co.    NM    87048           Web   \n",
       "16                      Wells Fargo & Company    VA    23061           Web   \n",
       "17                               U.S. Bancorp    CA    91335           Web   \n",
       "18                            Bank of America    FL    32258      Referral   \n",
       "19              Regions Financial Corporation    TN    38474      Referral   \n",
       "20                      Wells Fargo & Company    MO    63119      Referral   \n",
       "21                            Bank of America    CA    90814           Web   \n",
       "22                                       Amex    OH    44240      Referral   \n",
       "23        Portfolio Recovery Associates, Inc.    UT    840XX           Web   \n",
       "24                               U.S. Bancorp    KY    41622           Web   \n",
       "25                            Bank of America    MN    56063      Referral   \n",
       "26               United PanAm Financial Corp.    IN    46545           Web   \n",
       "27                                   Citibank    UT    840XX           Web   \n",
       "28                      Wells Fargo & Company    MD    20876      Referral   \n",
       "29                           Eltman Law, P.C.    FL    33155           Web   \n",
       "30                                Capital One    CA    92336           Web   \n",
       "31                        Ally Financial Inc.    PA    15044           Web   \n",
       "32          Fifth Third Financial Corporation    TX    75204           Web   \n",
       "33                      ACE Cash Express Inc.    CA    93550           Web   \n",
       "34                            Bank of America    CA    95758      Referral   \n",
       "35                            Bank of America    CA    92590           Web   \n",
       "36                            Bank of America    FL    32408           Web   \n",
       "37     TransUnion Intermediate Holdings, Inc.    WI    53072           Web   \n",
       "38                        Nationstar Mortgage    NY    11572           Web   \n",
       "39        Portfolio Recovery Associates, Inc.    IL    60656           Web   \n",
       "40     TransUnion Intermediate Holdings, Inc.    NJ    08873      Referral   \n",
       "41                      Wells Fargo & Company    MD    211XX           Web   \n",
       "42                        Nationstar Mortgage    NY    11530      Referral   \n",
       "43                                      Ocwen    CA    94402      Referral   \n",
       "44                       JPMorgan Chase & Co.    OH    456XX           Web   \n",
       "45                       JPMorgan Chase & Co.    TX    76040           Web   \n",
       "46            Select Portfolio Servicing, Inc    FL    33712           Web   \n",
       "47                                   Experian    TX    774XX           Web   \n",
       "48     TransUnion Intermediate Holdings, Inc.    FL    339XX           Web   \n",
       "49               First National Bank of Omaha    MO    63122           Web   \n",
       "50                                    Equifax    NJ    08302           Web   \n",
       "51                             CashCall, Inc.    FL    331XX           Web   \n",
       "52                       JPMorgan Chase & Co.    CA    93705           Web   \n",
       "53     TransUnion Intermediate Holdings, Inc.    TX    75203           Web   \n",
       "54                            Bank of America    FL    325XX           Web   \n",
       "55                               Barclays PLC    IL    61432           Web   \n",
       "56                                  AES/PHEAA    KS    67212           Web   \n",
       "57                               U.S. Bancorp    CA    92653      Referral   \n",
       "58           HSBC North America Holdings Inc.    VA    24073      Referral   \n",
       "59                        Nationstar Mortgage    CO    80226           Web   \n",
       "\n",
       "   Date sent to company     Company response to consumer Timely response?  \\\n",
       "0            2015-10-14          Closed with explanation              Yes   \n",
       "1            2015-04-26          Closed with explanation              Yes   \n",
       "2            2014-01-03  Closed with non-monetary relief              Yes   \n",
       "3            2016-03-04          Closed with explanation              Yes   \n",
       "4            2015-01-30          Closed with explanation              Yes   \n",
       "5            2014-01-15          Closed with explanation              Yes   \n",
       "6            2016-02-03          Closed with explanation              Yes   \n",
       "7            2015-12-07          Closed with explanation              Yes   \n",
       "8            2012-04-05               Closed with relief              Yes   \n",
       "9            2015-08-20          Closed with explanation              Yes   \n",
       "10           2016-06-10  Closed with non-monetary relief              Yes   \n",
       "11           2015-11-16  Closed with non-monetary relief              Yes   \n",
       "12           2015-07-22          Closed with explanation              Yes   \n",
       "13           2015-07-07          Closed with explanation              Yes   \n",
       "14           2013-10-08          Closed with explanation              Yes   \n",
       "15           2012-02-29            Closed without relief              Yes   \n",
       "16           2015-06-22          Closed with explanation              Yes   \n",
       "17           2013-12-27          Closed with explanation              Yes   \n",
       "18           2013-03-29          Closed with explanation              Yes   \n",
       "19           2014-09-02      Closed with monetary relief              Yes   \n",
       "20           2012-12-03          Closed with explanation              Yes   \n",
       "21           2012-01-09            Closed without relief              Yes   \n",
       "22           2012-12-14      Closed with monetary relief              Yes   \n",
       "23           2015-04-01  Closed with non-monetary relief              Yes   \n",
       "24           2013-12-03          Closed with explanation              Yes   \n",
       "25           2013-04-22          Closed with explanation              Yes   \n",
       "26           2014-07-30  Closed with non-monetary relief              Yes   \n",
       "27           2015-08-04  Closed with non-monetary relief              Yes   \n",
       "28           2013-03-11          Closed with explanation              Yes   \n",
       "29           2016-03-23          Closed with explanation              Yes   \n",
       "30           2014-05-14  Closed with non-monetary relief              Yes   \n",
       "31           2014-10-13      Closed with monetary relief              Yes   \n",
       "32           2015-02-21  Closed with non-monetary relief              Yes   \n",
       "33           2015-02-12                           Closed              Yes   \n",
       "34           2012-02-29            Closed without relief              Yes   \n",
       "35           2013-06-05          Closed with explanation              Yes   \n",
       "36           2012-09-17          Closed with explanation               No   \n",
       "37           2014-12-11  Closed with non-monetary relief              Yes   \n",
       "38           2014-02-10          Closed with explanation              Yes   \n",
       "39           2015-09-02          Closed with explanation              Yes   \n",
       "40           2016-03-01          Closed with explanation              Yes   \n",
       "41           2015-07-01          Closed with explanation              Yes   \n",
       "42           2014-08-13          Closed with explanation              Yes   \n",
       "43           2015-12-08                           Closed              Yes   \n",
       "44           2016-02-05          Closed with explanation              Yes   \n",
       "45           2013-01-23          Closed with explanation              Yes   \n",
       "46           2014-01-21          Closed with explanation              Yes   \n",
       "47           2015-10-09  Closed with non-monetary relief              Yes   \n",
       "48           2016-07-11          Closed with explanation              Yes   \n",
       "49           2014-04-08          Closed with explanation              Yes   \n",
       "50           2015-03-13          Closed with explanation              Yes   \n",
       "51           2015-05-19          Closed with explanation              Yes   \n",
       "52           2015-02-07          Closed with explanation              Yes   \n",
       "53           2014-02-12  Closed with non-monetary relief              Yes   \n",
       "54           2015-07-27      Closed with monetary relief              Yes   \n",
       "55           2014-06-25      Closed with monetary relief              Yes   \n",
       "56           2014-03-25          Closed with explanation              Yes   \n",
       "57           2013-08-21          Closed with explanation              Yes   \n",
       "58           2015-06-11          Closed with explanation              Yes   \n",
       "59           2014-04-06          Closed with explanation              Yes   \n",
       "\n",
       "   Consumer disputed?  Complaint ID  \n",
       "0                  No       1605653  \n",
       "1                 Yes       1347613  \n",
       "2                  No        640394  \n",
       "3                  No       1815134  \n",
       "4                 Yes       1218613  \n",
       "5                 Yes        663281  \n",
       "6                  No       1771444  \n",
       "7                 Yes       1685130  \n",
       "8                 Yes         44225  \n",
       "9                  No       1518460  \n",
       "10                 No       1962098  \n",
       "11                 No       1651884  \n",
       "12                Yes       1481520  \n",
       "13                 No       1454021  \n",
       "14                 No        554994  \n",
       "15                 No         19621  \n",
       "16                 No       1431857  \n",
       "17                 No        625240  \n",
       "18                 No        368870  \n",
       "19                 No       1000886  \n",
       "20                 No        198392  \n",
       "21                Yes         10631  \n",
       "22                 No        210215  \n",
       "23                Yes       1312001  \n",
       "24                 No        622329  \n",
       "25                 No        386882  \n",
       "26                 No        960100  \n",
       "27                Yes       1502087  \n",
       "28                 No        345515  \n",
       "29                 No       1846563  \n",
       "30                 No        852376  \n",
       "31                 No       1068640  \n",
       "32                 No       1250817  \n",
       "33                 No       1238570  \n",
       "34                Yes         28161  \n",
       "35                 No        422028  \n",
       "36                 No        153237  \n",
       "37                 No       1146406  \n",
       "38                 No        706444  \n",
       "39                 No       1538316  \n",
       "40                 No       1804268  \n",
       "41                 No       1446780  \n",
       "42                 No        978041  \n",
       "43                 No       1681683  \n",
       "44                 No       1772835  \n",
       "45                 No        242038  \n",
       "46                Yes        677312  \n",
       "47                 No       1600510  \n",
       "48                 No       2005896  \n",
       "49                Yes        791310  \n",
       "50                Yes       1272398  \n",
       "51                 No       1379997  \n",
       "52                 No       1230289  \n",
       "53                 No        712065  \n",
       "54                Yes       1489180  \n",
       "55                 No        906452  \n",
       "56                 No        777244  \n",
       "57                 No        490253  \n",
       "58                Yes       1412402  \n",
       "59                Yes        795636  "
      ]
     },
     "execution_count": 9,
     "metadata": {},
     "output_type": "execute_result"
    }
   ],
   "source": [
    "final_df=df.append(df1)\n",
    "final_df.head(60)"
   ]
  },
  {
   "cell_type": "code",
   "execution_count": 10,
   "id": "bfa80436",
   "metadata": {},
   "outputs": [],
   "source": [
    "# Task-4 Extracting Day, Month, and Year from Date Received Column and create new fields for a month, year, and day\n",
    "final_df['Date']=final_df['Date received'].str.split('-').str[1]\n",
    "final_df['Month']=final_df['Date received'].str.split('-').str[2]\n",
    "final_df['Year']=final_df['Date received'].str.split('-').str[0]"
   ]
  },
  {
   "cell_type": "code",
   "execution_count": 11,
   "id": "93d92e64",
   "metadata": {},
   "outputs": [
    {
     "data": {
      "text/html": [
       "<div>\n",
       "<style scoped>\n",
       "    .dataframe tbody tr th:only-of-type {\n",
       "        vertical-align: middle;\n",
       "    }\n",
       "\n",
       "    .dataframe tbody tr th {\n",
       "        vertical-align: top;\n",
       "    }\n",
       "\n",
       "    .dataframe thead th {\n",
       "        text-align: right;\n",
       "    }\n",
       "</style>\n",
       "<table border=\"1\" class=\"dataframe\">\n",
       "  <thead>\n",
       "    <tr style=\"text-align: right;\">\n",
       "      <th></th>\n",
       "      <th>Date received</th>\n",
       "      <th>Product</th>\n",
       "      <th>Issue</th>\n",
       "      <th>Company</th>\n",
       "      <th>State</th>\n",
       "      <th>ZIP code</th>\n",
       "      <th>Submitted via</th>\n",
       "      <th>Date sent to company</th>\n",
       "      <th>Company response to consumer</th>\n",
       "      <th>Timely response?</th>\n",
       "      <th>Consumer disputed?</th>\n",
       "      <th>Complaint ID</th>\n",
       "      <th>Date</th>\n",
       "      <th>Month</th>\n",
       "      <th>Year</th>\n",
       "    </tr>\n",
       "  </thead>\n",
       "  <tbody>\n",
       "    <tr>\n",
       "      <th>0</th>\n",
       "      <td>2015-10-14</td>\n",
       "      <td>Credit reporting</td>\n",
       "      <td>Incorrect information on credit report</td>\n",
       "      <td>Equifax</td>\n",
       "      <td>GA</td>\n",
       "      <td>30134</td>\n",
       "      <td>Web</td>\n",
       "      <td>2015-10-14</td>\n",
       "      <td>Closed with explanation</td>\n",
       "      <td>Yes</td>\n",
       "      <td>No</td>\n",
       "      <td>1605653</td>\n",
       "      <td>10</td>\n",
       "      <td>14</td>\n",
       "      <td>2015</td>\n",
       "    </tr>\n",
       "    <tr>\n",
       "      <th>1</th>\n",
       "      <td>2015-04-26</td>\n",
       "      <td>Bank account or service</td>\n",
       "      <td>Deposits and withdrawals</td>\n",
       "      <td>Wells Fargo &amp; Company</td>\n",
       "      <td>GA</td>\n",
       "      <td>319XX</td>\n",
       "      <td>Web</td>\n",
       "      <td>2015-04-26</td>\n",
       "      <td>Closed with explanation</td>\n",
       "      <td>Yes</td>\n",
       "      <td>Yes</td>\n",
       "      <td>1347613</td>\n",
       "      <td>04</td>\n",
       "      <td>26</td>\n",
       "      <td>2015</td>\n",
       "    </tr>\n",
       "    <tr>\n",
       "      <th>2</th>\n",
       "      <td>2013-12-20</td>\n",
       "      <td>Credit card</td>\n",
       "      <td>Other</td>\n",
       "      <td>Citibank</td>\n",
       "      <td>SC</td>\n",
       "      <td>29203</td>\n",
       "      <td>Phone</td>\n",
       "      <td>2014-01-03</td>\n",
       "      <td>Closed with non-monetary relief</td>\n",
       "      <td>Yes</td>\n",
       "      <td>No</td>\n",
       "      <td>640394</td>\n",
       "      <td>12</td>\n",
       "      <td>20</td>\n",
       "      <td>2013</td>\n",
       "    </tr>\n",
       "  </tbody>\n",
       "</table>\n",
       "</div>"
      ],
      "text/plain": [
       "  Date received                  Product  \\\n",
       "0    2015-10-14         Credit reporting   \n",
       "1    2015-04-26  Bank account or service   \n",
       "2    2013-12-20              Credit card   \n",
       "\n",
       "                                    Issue                Company State  \\\n",
       "0  Incorrect information on credit report                Equifax    GA   \n",
       "1                Deposits and withdrawals  Wells Fargo & Company    GA   \n",
       "2                                   Other               Citibank    SC   \n",
       "\n",
       "  ZIP code Submitted via Date sent to company  \\\n",
       "0    30134           Web           2015-10-14   \n",
       "1    319XX           Web           2015-04-26   \n",
       "2    29203         Phone           2014-01-03   \n",
       "\n",
       "      Company response to consumer Timely response? Consumer disputed?  \\\n",
       "0          Closed with explanation              Yes                 No   \n",
       "1          Closed with explanation              Yes                Yes   \n",
       "2  Closed with non-monetary relief              Yes                 No   \n",
       "\n",
       "   Complaint ID Date Month  Year  \n",
       "0       1605653   10    14  2015  \n",
       "1       1347613   04    26  2015  \n",
       "2        640394   12    20  2013  "
      ]
     },
     "execution_count": 11,
     "metadata": {},
     "output_type": "execute_result"
    }
   ],
   "source": [
    "final_df.head(3)"
   ]
  },
  {
   "cell_type": "code",
   "execution_count": 182,
   "id": "4facba91",
   "metadata": {},
   "outputs": [
    {
     "name": "stdout",
     "output_type": "stream",
     "text": [
      "<class 'pandas.core.frame.DataFrame'>\n",
      "Int64Index: 478416 entries, 0 to 119605\n",
      "Data columns (total 21 columns):\n",
      " #   Column                        Non-Null Count   Dtype \n",
      "---  ------                        --------------   ----- \n",
      " 0   Date received                 478416 non-null  object\n",
      " 1   Product                       478416 non-null  object\n",
      " 2   Sub-product                   255024 non-null  object\n",
      " 3   Issue                         478416 non-null  object\n",
      " 4   Sub-issue                     139436 non-null  object\n",
      " 5   Consumer complaint narrative  56180 non-null   object\n",
      " 6   Company public response       67931 non-null   object\n",
      " 7   Company                       478416 non-null  object\n",
      " 8   State                         474577 non-null  object\n",
      " 9   ZIP code                      474568 non-null  object\n",
      " 10  Tags                          50226 non-null   object\n",
      " 11  Consumer consent provided?    101580 non-null  object\n",
      " 12  Submitted via                 478416 non-null  object\n",
      " 13  Date sent to company          478416 non-null  object\n",
      " 14  Company response to consumer  478416 non-null  object\n",
      " 15  Timely response?              478416 non-null  object\n",
      " 16  Consumer disputed?            358810 non-null  object\n",
      " 17  Complaint ID                  478416 non-null  int64 \n",
      " 18  Date                          478416 non-null  object\n",
      " 19  Month                         478416 non-null  object\n",
      " 20  Year                          478416 non-null  object\n",
      "dtypes: int64(1), object(20)\n",
      "memory usage: 80.3+ MB\n"
     ]
    }
   ],
   "source": [
    "final_df.info() # first check format of the data"
   ]
  },
  {
   "cell_type": "code",
   "execution_count": 12,
   "id": "c7b03555",
   "metadata": {},
   "outputs": [],
   "source": [
    "# Task-5 Calculate the Number of Days the Complaint was with the Company and create a new field as “Days held”\n",
    "#  Convert the date to datetime format\n",
    "final_df['Date received']=pd.to_datetime(final_df['Date received'],errors='coerce') \n",
    "final_df['Date sent to company']=pd.to_datetime(final_df['Date sent to company'],errors='coerce')"
   ]
  },
  {
   "cell_type": "code",
   "execution_count": 13,
   "id": "c5c24096",
   "metadata": {},
   "outputs": [
    {
     "name": "stdout",
     "output_type": "stream",
     "text": [
      "<class 'pandas.core.frame.DataFrame'>\n",
      "Int64Index: 478416 entries, 0 to 119605\n",
      "Data columns (total 15 columns):\n",
      " #   Column                        Non-Null Count   Dtype         \n",
      "---  ------                        --------------   -----         \n",
      " 0   Date received                 478416 non-null  datetime64[ns]\n",
      " 1   Product                       478416 non-null  object        \n",
      " 2   Issue                         478416 non-null  object        \n",
      " 3   Company                       478416 non-null  object        \n",
      " 4   State                         474577 non-null  object        \n",
      " 5   ZIP code                      474568 non-null  object        \n",
      " 6   Submitted via                 478416 non-null  object        \n",
      " 7   Date sent to company          478416 non-null  datetime64[ns]\n",
      " 8   Company response to consumer  478416 non-null  object        \n",
      " 9   Timely response?              478416 non-null  object        \n",
      " 10  Consumer disputed?            358810 non-null  object        \n",
      " 11  Complaint ID                  478416 non-null  int64         \n",
      " 12  Date                          478416 non-null  object        \n",
      " 13  Month                         478416 non-null  object        \n",
      " 14  Year                          478416 non-null  object        \n",
      "dtypes: datetime64[ns](2), int64(1), object(12)\n",
      "memory usage: 58.4+ MB\n"
     ]
    }
   ],
   "source": [
    "final_df.info()# recheck data type of date"
   ]
  },
  {
   "cell_type": "code",
   "execution_count": 14,
   "id": "6900d404",
   "metadata": {},
   "outputs": [],
   "source": [
    "#  Calculate the difference between two dates as a time delta\n",
    "final_df['Days_held']=final_df['Date sent to company'] - final_df['Date received']"
   ]
  },
  {
   "cell_type": "code",
   "execution_count": 15,
   "id": "37d9c1d2",
   "metadata": {},
   "outputs": [
    {
     "data": {
      "text/html": [
       "<div>\n",
       "<style scoped>\n",
       "    .dataframe tbody tr th:only-of-type {\n",
       "        vertical-align: middle;\n",
       "    }\n",
       "\n",
       "    .dataframe tbody tr th {\n",
       "        vertical-align: top;\n",
       "    }\n",
       "\n",
       "    .dataframe thead th {\n",
       "        text-align: right;\n",
       "    }\n",
       "</style>\n",
       "<table border=\"1\" class=\"dataframe\">\n",
       "  <thead>\n",
       "    <tr style=\"text-align: right;\">\n",
       "      <th></th>\n",
       "      <th>Date received</th>\n",
       "      <th>Product</th>\n",
       "      <th>Issue</th>\n",
       "      <th>Company</th>\n",
       "      <th>State</th>\n",
       "      <th>ZIP code</th>\n",
       "      <th>Submitted via</th>\n",
       "      <th>Date sent to company</th>\n",
       "      <th>Company response to consumer</th>\n",
       "      <th>Timely response?</th>\n",
       "      <th>Consumer disputed?</th>\n",
       "      <th>Complaint ID</th>\n",
       "      <th>Date</th>\n",
       "      <th>Month</th>\n",
       "      <th>Year</th>\n",
       "      <th>Days_held</th>\n",
       "    </tr>\n",
       "  </thead>\n",
       "  <tbody>\n",
       "    <tr>\n",
       "      <th>0</th>\n",
       "      <td>2015-10-14</td>\n",
       "      <td>Credit reporting</td>\n",
       "      <td>Incorrect information on credit report</td>\n",
       "      <td>Equifax</td>\n",
       "      <td>GA</td>\n",
       "      <td>30134</td>\n",
       "      <td>Web</td>\n",
       "      <td>2015-10-14</td>\n",
       "      <td>Closed with explanation</td>\n",
       "      <td>Yes</td>\n",
       "      <td>No</td>\n",
       "      <td>1605653</td>\n",
       "      <td>10</td>\n",
       "      <td>14</td>\n",
       "      <td>2015</td>\n",
       "      <td>0 days</td>\n",
       "    </tr>\n",
       "    <tr>\n",
       "      <th>1</th>\n",
       "      <td>2015-04-26</td>\n",
       "      <td>Bank account or service</td>\n",
       "      <td>Deposits and withdrawals</td>\n",
       "      <td>Wells Fargo &amp; Company</td>\n",
       "      <td>GA</td>\n",
       "      <td>319XX</td>\n",
       "      <td>Web</td>\n",
       "      <td>2015-04-26</td>\n",
       "      <td>Closed with explanation</td>\n",
       "      <td>Yes</td>\n",
       "      <td>Yes</td>\n",
       "      <td>1347613</td>\n",
       "      <td>04</td>\n",
       "      <td>26</td>\n",
       "      <td>2015</td>\n",
       "      <td>0 days</td>\n",
       "    </tr>\n",
       "    <tr>\n",
       "      <th>2</th>\n",
       "      <td>2013-12-20</td>\n",
       "      <td>Credit card</td>\n",
       "      <td>Other</td>\n",
       "      <td>Citibank</td>\n",
       "      <td>SC</td>\n",
       "      <td>29203</td>\n",
       "      <td>Phone</td>\n",
       "      <td>2014-01-03</td>\n",
       "      <td>Closed with non-monetary relief</td>\n",
       "      <td>Yes</td>\n",
       "      <td>No</td>\n",
       "      <td>640394</td>\n",
       "      <td>12</td>\n",
       "      <td>20</td>\n",
       "      <td>2013</td>\n",
       "      <td>14 days</td>\n",
       "    </tr>\n",
       "    <tr>\n",
       "      <th>3</th>\n",
       "      <td>2016-03-03</td>\n",
       "      <td>Debt collection</td>\n",
       "      <td>Disclosure verification of debt</td>\n",
       "      <td>FAIR COLLECTIONS &amp; OUTSOURCING, INC.</td>\n",
       "      <td>OH</td>\n",
       "      <td>43082</td>\n",
       "      <td>Referral</td>\n",
       "      <td>2016-03-04</td>\n",
       "      <td>Closed with explanation</td>\n",
       "      <td>Yes</td>\n",
       "      <td>No</td>\n",
       "      <td>1815134</td>\n",
       "      <td>03</td>\n",
       "      <td>03</td>\n",
       "      <td>2016</td>\n",
       "      <td>1 days</td>\n",
       "    </tr>\n",
       "    <tr>\n",
       "      <th>4</th>\n",
       "      <td>2015-01-30</td>\n",
       "      <td>Debt collection</td>\n",
       "      <td>Disclosure verification of debt</td>\n",
       "      <td>HCFS Health Care Financial Services, Inc.</td>\n",
       "      <td>CA</td>\n",
       "      <td>90036</td>\n",
       "      <td>Web</td>\n",
       "      <td>2015-01-30</td>\n",
       "      <td>Closed with explanation</td>\n",
       "      <td>Yes</td>\n",
       "      <td>Yes</td>\n",
       "      <td>1218613</td>\n",
       "      <td>01</td>\n",
       "      <td>30</td>\n",
       "      <td>2015</td>\n",
       "      <td>0 days</td>\n",
       "    </tr>\n",
       "  </tbody>\n",
       "</table>\n",
       "</div>"
      ],
      "text/plain": [
       "  Date received                  Product  \\\n",
       "0    2015-10-14         Credit reporting   \n",
       "1    2015-04-26  Bank account or service   \n",
       "2    2013-12-20              Credit card   \n",
       "3    2016-03-03          Debt collection   \n",
       "4    2015-01-30          Debt collection   \n",
       "\n",
       "                                    Issue  \\\n",
       "0  Incorrect information on credit report   \n",
       "1                Deposits and withdrawals   \n",
       "2                                   Other   \n",
       "3         Disclosure verification of debt   \n",
       "4         Disclosure verification of debt   \n",
       "\n",
       "                                     Company State ZIP code Submitted via  \\\n",
       "0                                    Equifax    GA    30134           Web   \n",
       "1                      Wells Fargo & Company    GA    319XX           Web   \n",
       "2                                   Citibank    SC    29203         Phone   \n",
       "3       FAIR COLLECTIONS & OUTSOURCING, INC.    OH    43082      Referral   \n",
       "4  HCFS Health Care Financial Services, Inc.    CA    90036           Web   \n",
       "\n",
       "  Date sent to company     Company response to consumer Timely response?  \\\n",
       "0           2015-10-14          Closed with explanation              Yes   \n",
       "1           2015-04-26          Closed with explanation              Yes   \n",
       "2           2014-01-03  Closed with non-monetary relief              Yes   \n",
       "3           2016-03-04          Closed with explanation              Yes   \n",
       "4           2015-01-30          Closed with explanation              Yes   \n",
       "\n",
       "  Consumer disputed?  Complaint ID Date Month  Year Days_held  \n",
       "0                 No       1605653   10    14  2015    0 days  \n",
       "1                Yes       1347613   04    26  2015    0 days  \n",
       "2                 No        640394   12    20  2013   14 days  \n",
       "3                 No       1815134   03    03  2016    1 days  \n",
       "4                Yes       1218613   01    30  2015    0 days  "
      ]
     },
     "execution_count": 15,
     "metadata": {},
     "output_type": "execute_result"
    }
   ],
   "source": [
    "final_df.head()"
   ]
  },
  {
   "cell_type": "code",
   "execution_count": 23,
   "id": "c7fce385",
   "metadata": {},
   "outputs": [],
   "source": [
    "# Task-6 Drop \"Date Received\",\"Date Sent to Company\",\"ZIP Code\", \"Complaint ID\" fields"
   ]
  },
  {
   "cell_type": "code",
   "execution_count": 16,
   "id": "743cd3ac",
   "metadata": {},
   "outputs": [],
   "source": [
    "final_df.drop(['Date received','Date sent to company','ZIP code','Complaint ID'],axis=1,inplace=True)"
   ]
  },
  {
   "cell_type": "code",
   "execution_count": 17,
   "id": "204be838",
   "metadata": {},
   "outputs": [
    {
     "data": {
      "text/html": [
       "<div>\n",
       "<style scoped>\n",
       "    .dataframe tbody tr th:only-of-type {\n",
       "        vertical-align: middle;\n",
       "    }\n",
       "\n",
       "    .dataframe tbody tr th {\n",
       "        vertical-align: top;\n",
       "    }\n",
       "\n",
       "    .dataframe thead th {\n",
       "        text-align: right;\n",
       "    }\n",
       "</style>\n",
       "<table border=\"1\" class=\"dataframe\">\n",
       "  <thead>\n",
       "    <tr style=\"text-align: right;\">\n",
       "      <th></th>\n",
       "      <th>Product</th>\n",
       "      <th>Issue</th>\n",
       "      <th>Company</th>\n",
       "      <th>State</th>\n",
       "      <th>Submitted via</th>\n",
       "      <th>Company response to consumer</th>\n",
       "      <th>Timely response?</th>\n",
       "      <th>Consumer disputed?</th>\n",
       "      <th>Date</th>\n",
       "      <th>Month</th>\n",
       "      <th>Year</th>\n",
       "      <th>Days_held</th>\n",
       "    </tr>\n",
       "  </thead>\n",
       "  <tbody>\n",
       "    <tr>\n",
       "      <th>0</th>\n",
       "      <td>Credit reporting</td>\n",
       "      <td>Incorrect information on credit report</td>\n",
       "      <td>Equifax</td>\n",
       "      <td>GA</td>\n",
       "      <td>Web</td>\n",
       "      <td>Closed with explanation</td>\n",
       "      <td>Yes</td>\n",
       "      <td>No</td>\n",
       "      <td>10</td>\n",
       "      <td>14</td>\n",
       "      <td>2015</td>\n",
       "      <td>0 days</td>\n",
       "    </tr>\n",
       "    <tr>\n",
       "      <th>1</th>\n",
       "      <td>Bank account or service</td>\n",
       "      <td>Deposits and withdrawals</td>\n",
       "      <td>Wells Fargo &amp; Company</td>\n",
       "      <td>GA</td>\n",
       "      <td>Web</td>\n",
       "      <td>Closed with explanation</td>\n",
       "      <td>Yes</td>\n",
       "      <td>Yes</td>\n",
       "      <td>04</td>\n",
       "      <td>26</td>\n",
       "      <td>2015</td>\n",
       "      <td>0 days</td>\n",
       "    </tr>\n",
       "    <tr>\n",
       "      <th>2</th>\n",
       "      <td>Credit card</td>\n",
       "      <td>Other</td>\n",
       "      <td>Citibank</td>\n",
       "      <td>SC</td>\n",
       "      <td>Phone</td>\n",
       "      <td>Closed with non-monetary relief</td>\n",
       "      <td>Yes</td>\n",
       "      <td>No</td>\n",
       "      <td>12</td>\n",
       "      <td>20</td>\n",
       "      <td>2013</td>\n",
       "      <td>14 days</td>\n",
       "    </tr>\n",
       "  </tbody>\n",
       "</table>\n",
       "</div>"
      ],
      "text/plain": [
       "                   Product                                   Issue  \\\n",
       "0         Credit reporting  Incorrect information on credit report   \n",
       "1  Bank account or service                Deposits and withdrawals   \n",
       "2              Credit card                                   Other   \n",
       "\n",
       "                 Company State Submitted via     Company response to consumer  \\\n",
       "0                Equifax    GA           Web          Closed with explanation   \n",
       "1  Wells Fargo & Company    GA           Web          Closed with explanation   \n",
       "2               Citibank    SC         Phone  Closed with non-monetary relief   \n",
       "\n",
       "  Timely response? Consumer disputed? Date Month  Year Days_held  \n",
       "0              Yes                 No   10    14  2015    0 days  \n",
       "1              Yes                Yes   04    26  2015    0 days  \n",
       "2              Yes                 No   12    20  2013   14 days  "
      ]
     },
     "execution_count": 17,
     "metadata": {},
     "output_type": "execute_result"
    }
   ],
   "source": [
    "final_df.head(3)"
   ]
  },
  {
   "cell_type": "code",
   "execution_count": null,
   "id": "48618756",
   "metadata": {},
   "outputs": [],
   "source": []
  },
  {
   "cell_type": "code",
   "execution_count": 20,
   "id": "96a7b3a3",
   "metadata": {},
   "outputs": [
    {
     "data": {
      "text/plain": [
       "3839"
      ]
     },
     "execution_count": 20,
     "metadata": {},
     "output_type": "execute_result"
    }
   ],
   "source": [
    "# check total null value in State column\n",
    "final_df['State'].isnull().sum()"
   ]
  },
  {
   "cell_type": "code",
   "execution_count": 18,
   "id": "3c628419",
   "metadata": {},
   "outputs": [],
   "source": [
    "# Task-7 Imputing Null value in “State” by Mode\n",
    "final_df['State']=final_df['State'].fillna(final_df['State'].mode()[0])"
   ]
  },
  {
   "cell_type": "code",
   "execution_count": 28,
   "id": "bb655506",
   "metadata": {},
   "outputs": [
    {
     "data": {
      "text/plain": [
       "Product                              0\n",
       "Issue                                0\n",
       "Company                              0\n",
       "State                                0\n",
       "Submitted via                        0\n",
       "Company response to consumer         0\n",
       "Timely response?                     0\n",
       "Consumer disputed?              119606\n",
       "Date                                 0\n",
       "Month                                0\n",
       "Year                                 0\n",
       "Days_held                            0\n",
       "dtype: int64"
      ]
     },
     "execution_count": 28,
     "metadata": {},
     "output_type": "execute_result"
    }
   ],
   "source": [
    "final_df.isnull().sum()"
   ]
  },
  {
   "cell_type": "code",
   "execution_count": 29,
   "id": "ffa4b1e4",
   "metadata": {},
   "outputs": [],
   "source": [
    "# Task 8- with the help of the days we calculated above, create a new field 'Week_Received' where we calculate the week based on the day of receiving."
   ]
  },
  {
   "cell_type": "code",
   "execution_count": 30,
   "id": "596cd406",
   "metadata": {},
   "outputs": [],
   "source": [
    "# final_df['Week_Received']=final_df['Days held'].map({'0-7':'week1','7-14':'week2'})"
   ]
  },
  {
   "cell_type": "code",
   "execution_count": 19,
   "id": "478661cb",
   "metadata": {},
   "outputs": [
    {
     "data": {
      "text/html": [
       "<div>\n",
       "<style scoped>\n",
       "    .dataframe tbody tr th:only-of-type {\n",
       "        vertical-align: middle;\n",
       "    }\n",
       "\n",
       "    .dataframe tbody tr th {\n",
       "        vertical-align: top;\n",
       "    }\n",
       "\n",
       "    .dataframe thead th {\n",
       "        text-align: right;\n",
       "    }\n",
       "</style>\n",
       "<table border=\"1\" class=\"dataframe\">\n",
       "  <thead>\n",
       "    <tr style=\"text-align: right;\">\n",
       "      <th></th>\n",
       "      <th>Product</th>\n",
       "      <th>Issue</th>\n",
       "      <th>Company</th>\n",
       "      <th>State</th>\n",
       "      <th>Submitted via</th>\n",
       "      <th>Company response to consumer</th>\n",
       "      <th>Timely response?</th>\n",
       "      <th>Consumer disputed?</th>\n",
       "      <th>Date</th>\n",
       "      <th>Month</th>\n",
       "      <th>Year</th>\n",
       "      <th>Days_held</th>\n",
       "    </tr>\n",
       "  </thead>\n",
       "  <tbody>\n",
       "    <tr>\n",
       "      <th>0</th>\n",
       "      <td>Credit reporting</td>\n",
       "      <td>Incorrect information on credit report</td>\n",
       "      <td>Equifax</td>\n",
       "      <td>GA</td>\n",
       "      <td>Web</td>\n",
       "      <td>Closed with explanation</td>\n",
       "      <td>Yes</td>\n",
       "      <td>No</td>\n",
       "      <td>10</td>\n",
       "      <td>14</td>\n",
       "      <td>2015</td>\n",
       "      <td>0 days</td>\n",
       "    </tr>\n",
       "    <tr>\n",
       "      <th>1</th>\n",
       "      <td>Bank account or service</td>\n",
       "      <td>Deposits and withdrawals</td>\n",
       "      <td>Wells Fargo &amp; Company</td>\n",
       "      <td>GA</td>\n",
       "      <td>Web</td>\n",
       "      <td>Closed with explanation</td>\n",
       "      <td>Yes</td>\n",
       "      <td>Yes</td>\n",
       "      <td>04</td>\n",
       "      <td>26</td>\n",
       "      <td>2015</td>\n",
       "      <td>0 days</td>\n",
       "    </tr>\n",
       "    <tr>\n",
       "      <th>2</th>\n",
       "      <td>Credit card</td>\n",
       "      <td>Other</td>\n",
       "      <td>Citibank</td>\n",
       "      <td>SC</td>\n",
       "      <td>Phone</td>\n",
       "      <td>Closed with non-monetary relief</td>\n",
       "      <td>Yes</td>\n",
       "      <td>No</td>\n",
       "      <td>12</td>\n",
       "      <td>20</td>\n",
       "      <td>2013</td>\n",
       "      <td>14 days</td>\n",
       "    </tr>\n",
       "    <tr>\n",
       "      <th>3</th>\n",
       "      <td>Debt collection</td>\n",
       "      <td>Disclosure verification of debt</td>\n",
       "      <td>FAIR COLLECTIONS &amp; OUTSOURCING, INC.</td>\n",
       "      <td>OH</td>\n",
       "      <td>Referral</td>\n",
       "      <td>Closed with explanation</td>\n",
       "      <td>Yes</td>\n",
       "      <td>No</td>\n",
       "      <td>03</td>\n",
       "      <td>03</td>\n",
       "      <td>2016</td>\n",
       "      <td>1 days</td>\n",
       "    </tr>\n",
       "    <tr>\n",
       "      <th>4</th>\n",
       "      <td>Debt collection</td>\n",
       "      <td>Disclosure verification of debt</td>\n",
       "      <td>HCFS Health Care Financial Services, Inc.</td>\n",
       "      <td>CA</td>\n",
       "      <td>Web</td>\n",
       "      <td>Closed with explanation</td>\n",
       "      <td>Yes</td>\n",
       "      <td>Yes</td>\n",
       "      <td>01</td>\n",
       "      <td>30</td>\n",
       "      <td>2015</td>\n",
       "      <td>0 days</td>\n",
       "    </tr>\n",
       "    <tr>\n",
       "      <th>5</th>\n",
       "      <td>Credit card</td>\n",
       "      <td>APR or interest rate</td>\n",
       "      <td>TD Bank US Holding Company</td>\n",
       "      <td>FL</td>\n",
       "      <td>Web</td>\n",
       "      <td>Closed with explanation</td>\n",
       "      <td>Yes</td>\n",
       "      <td>Yes</td>\n",
       "      <td>01</td>\n",
       "      <td>10</td>\n",
       "      <td>2014</td>\n",
       "      <td>5 days</td>\n",
       "    </tr>\n",
       "    <tr>\n",
       "      <th>6</th>\n",
       "      <td>Mortgage</td>\n",
       "      <td>Loan modification,collection,foreclosure</td>\n",
       "      <td>Ocwen</td>\n",
       "      <td>NJ</td>\n",
       "      <td>Web</td>\n",
       "      <td>Closed with explanation</td>\n",
       "      <td>Yes</td>\n",
       "      <td>No</td>\n",
       "      <td>02</td>\n",
       "      <td>03</td>\n",
       "      <td>2016</td>\n",
       "      <td>0 days</td>\n",
       "    </tr>\n",
       "    <tr>\n",
       "      <th>7</th>\n",
       "      <td>Credit card</td>\n",
       "      <td>Payoff process</td>\n",
       "      <td>Capital One</td>\n",
       "      <td>IL</td>\n",
       "      <td>Web</td>\n",
       "      <td>Closed with explanation</td>\n",
       "      <td>Yes</td>\n",
       "      <td>Yes</td>\n",
       "      <td>12</td>\n",
       "      <td>07</td>\n",
       "      <td>2015</td>\n",
       "      <td>0 days</td>\n",
       "    </tr>\n",
       "  </tbody>\n",
       "</table>\n",
       "</div>"
      ],
      "text/plain": [
       "                   Product                                     Issue  \\\n",
       "0         Credit reporting    Incorrect information on credit report   \n",
       "1  Bank account or service                  Deposits and withdrawals   \n",
       "2              Credit card                                     Other   \n",
       "3          Debt collection           Disclosure verification of debt   \n",
       "4          Debt collection           Disclosure verification of debt   \n",
       "5              Credit card                      APR or interest rate   \n",
       "6                 Mortgage  Loan modification,collection,foreclosure   \n",
       "7              Credit card                            Payoff process   \n",
       "\n",
       "                                     Company State Submitted via  \\\n",
       "0                                    Equifax    GA           Web   \n",
       "1                      Wells Fargo & Company    GA           Web   \n",
       "2                                   Citibank    SC         Phone   \n",
       "3       FAIR COLLECTIONS & OUTSOURCING, INC.    OH      Referral   \n",
       "4  HCFS Health Care Financial Services, Inc.    CA           Web   \n",
       "5                 TD Bank US Holding Company    FL           Web   \n",
       "6                                      Ocwen    NJ           Web   \n",
       "7                                Capital One    IL           Web   \n",
       "\n",
       "      Company response to consumer Timely response? Consumer disputed? Date  \\\n",
       "0          Closed with explanation              Yes                 No   10   \n",
       "1          Closed with explanation              Yes                Yes   04   \n",
       "2  Closed with non-monetary relief              Yes                 No   12   \n",
       "3          Closed with explanation              Yes                 No   03   \n",
       "4          Closed with explanation              Yes                Yes   01   \n",
       "5          Closed with explanation              Yes                Yes   01   \n",
       "6          Closed with explanation              Yes                 No   02   \n",
       "7          Closed with explanation              Yes                Yes   12   \n",
       "\n",
       "  Month  Year Days_held  \n",
       "0    14  2015    0 days  \n",
       "1    26  2015    0 days  \n",
       "2    20  2013   14 days  \n",
       "3    03  2016    1 days  \n",
       "4    30  2015    0 days  \n",
       "5    10  2014    5 days  \n",
       "6    03  2016    0 days  \n",
       "7    07  2015    0 days  "
      ]
     },
     "execution_count": 19,
     "metadata": {},
     "output_type": "execute_result"
    }
   ],
   "source": [
    "final_df.head(8)"
   ]
  },
  {
   "cell_type": "code",
   "execution_count": 20,
   "id": "6a3d287b",
   "metadata": {},
   "outputs": [],
   "source": [
    "# Task-9 store data of disputed people into the “disputed_cons” variable for future tasks\n",
    "final_df['Disputed_Cons']= final_df['Consumer disputed?']"
   ]
  },
  {
   "cell_type": "code",
   "execution_count": 21,
   "id": "859a8c24",
   "metadata": {},
   "outputs": [
    {
     "data": {
      "text/html": [
       "<div>\n",
       "<style scoped>\n",
       "    .dataframe tbody tr th:only-of-type {\n",
       "        vertical-align: middle;\n",
       "    }\n",
       "\n",
       "    .dataframe tbody tr th {\n",
       "        vertical-align: top;\n",
       "    }\n",
       "\n",
       "    .dataframe thead th {\n",
       "        text-align: right;\n",
       "    }\n",
       "</style>\n",
       "<table border=\"1\" class=\"dataframe\">\n",
       "  <thead>\n",
       "    <tr style=\"text-align: right;\">\n",
       "      <th></th>\n",
       "      <th>Product</th>\n",
       "      <th>Issue</th>\n",
       "      <th>Company</th>\n",
       "      <th>State</th>\n",
       "      <th>Submitted via</th>\n",
       "      <th>Company response to consumer</th>\n",
       "      <th>Timely response?</th>\n",
       "      <th>Consumer disputed?</th>\n",
       "      <th>Date</th>\n",
       "      <th>Month</th>\n",
       "      <th>Year</th>\n",
       "      <th>Days_held</th>\n",
       "      <th>Disputed_Cons</th>\n",
       "    </tr>\n",
       "  </thead>\n",
       "  <tbody>\n",
       "    <tr>\n",
       "      <th>0</th>\n",
       "      <td>Credit reporting</td>\n",
       "      <td>Incorrect information on credit report</td>\n",
       "      <td>Equifax</td>\n",
       "      <td>GA</td>\n",
       "      <td>Web</td>\n",
       "      <td>Closed with explanation</td>\n",
       "      <td>Yes</td>\n",
       "      <td>No</td>\n",
       "      <td>10</td>\n",
       "      <td>14</td>\n",
       "      <td>2015</td>\n",
       "      <td>0 days</td>\n",
       "      <td>No</td>\n",
       "    </tr>\n",
       "    <tr>\n",
       "      <th>1</th>\n",
       "      <td>Bank account or service</td>\n",
       "      <td>Deposits and withdrawals</td>\n",
       "      <td>Wells Fargo &amp; Company</td>\n",
       "      <td>GA</td>\n",
       "      <td>Web</td>\n",
       "      <td>Closed with explanation</td>\n",
       "      <td>Yes</td>\n",
       "      <td>Yes</td>\n",
       "      <td>04</td>\n",
       "      <td>26</td>\n",
       "      <td>2015</td>\n",
       "      <td>0 days</td>\n",
       "      <td>Yes</td>\n",
       "    </tr>\n",
       "    <tr>\n",
       "      <th>2</th>\n",
       "      <td>Credit card</td>\n",
       "      <td>Other</td>\n",
       "      <td>Citibank</td>\n",
       "      <td>SC</td>\n",
       "      <td>Phone</td>\n",
       "      <td>Closed with non-monetary relief</td>\n",
       "      <td>Yes</td>\n",
       "      <td>No</td>\n",
       "      <td>12</td>\n",
       "      <td>20</td>\n",
       "      <td>2013</td>\n",
       "      <td>14 days</td>\n",
       "      <td>No</td>\n",
       "    </tr>\n",
       "    <tr>\n",
       "      <th>3</th>\n",
       "      <td>Debt collection</td>\n",
       "      <td>Disclosure verification of debt</td>\n",
       "      <td>FAIR COLLECTIONS &amp; OUTSOURCING, INC.</td>\n",
       "      <td>OH</td>\n",
       "      <td>Referral</td>\n",
       "      <td>Closed with explanation</td>\n",
       "      <td>Yes</td>\n",
       "      <td>No</td>\n",
       "      <td>03</td>\n",
       "      <td>03</td>\n",
       "      <td>2016</td>\n",
       "      <td>1 days</td>\n",
       "      <td>No</td>\n",
       "    </tr>\n",
       "    <tr>\n",
       "      <th>4</th>\n",
       "      <td>Debt collection</td>\n",
       "      <td>Disclosure verification of debt</td>\n",
       "      <td>HCFS Health Care Financial Services, Inc.</td>\n",
       "      <td>CA</td>\n",
       "      <td>Web</td>\n",
       "      <td>Closed with explanation</td>\n",
       "      <td>Yes</td>\n",
       "      <td>Yes</td>\n",
       "      <td>01</td>\n",
       "      <td>30</td>\n",
       "      <td>2015</td>\n",
       "      <td>0 days</td>\n",
       "      <td>Yes</td>\n",
       "    </tr>\n",
       "  </tbody>\n",
       "</table>\n",
       "</div>"
      ],
      "text/plain": [
       "                   Product                                   Issue  \\\n",
       "0         Credit reporting  Incorrect information on credit report   \n",
       "1  Bank account or service                Deposits and withdrawals   \n",
       "2              Credit card                                   Other   \n",
       "3          Debt collection         Disclosure verification of debt   \n",
       "4          Debt collection         Disclosure verification of debt   \n",
       "\n",
       "                                     Company State Submitted via  \\\n",
       "0                                    Equifax    GA           Web   \n",
       "1                      Wells Fargo & Company    GA           Web   \n",
       "2                                   Citibank    SC         Phone   \n",
       "3       FAIR COLLECTIONS & OUTSOURCING, INC.    OH      Referral   \n",
       "4  HCFS Health Care Financial Services, Inc.    CA           Web   \n",
       "\n",
       "      Company response to consumer Timely response? Consumer disputed? Date  \\\n",
       "0          Closed with explanation              Yes                 No   10   \n",
       "1          Closed with explanation              Yes                Yes   04   \n",
       "2  Closed with non-monetary relief              Yes                 No   12   \n",
       "3          Closed with explanation              Yes                 No   03   \n",
       "4          Closed with explanation              Yes                Yes   01   \n",
       "\n",
       "  Month  Year Days_held Disputed_Cons  \n",
       "0    14  2015    0 days            No  \n",
       "1    26  2015    0 days           Yes  \n",
       "2    20  2013   14 days            No  \n",
       "3    03  2016    1 days            No  \n",
       "4    30  2015    0 days           Yes  "
      ]
     },
     "execution_count": 21,
     "metadata": {},
     "output_type": "execute_result"
    }
   ],
   "source": [
    "final_df.head()"
   ]
  },
  {
   "cell_type": "code",
   "execution_count": 34,
   "id": "2700c07d",
   "metadata": {},
   "outputs": [
    {
     "data": {
      "text/plain": [
       "<AxesSubplot:>"
      ]
     },
     "execution_count": 34,
     "metadata": {},
     "output_type": "execute_result"
    },
    {
     "data": {
      "image/png": "[encoded data removed]",
      "text/plain": [
       "<Figure size 640x480 with 1 Axes>"
      ]
     },
     "metadata": {},
     "output_type": "display_data"
    }
   ],
   "source": [
    "# Task -10 Plot bar graph of the total no of disputes of consumers with the help of seaborn\n",
    "import seaborn as sns\n",
    "total_disputed=(final_df['Disputed_Cons']=='Yes').value_counts()\n",
    "sns.barplot(x=total_disputed.index.values,y=total_disputed.values,data=final_df)"
   ]
  },
  {
   "cell_type": "code",
   "execution_count": 35,
   "id": "7a334a30",
   "metadata": {},
   "outputs": [],
   "source": [
    "product_disputes=final_df['Product'].value_counts()"
   ]
  },
  {
   "cell_type": "code",
   "execution_count": 36,
   "id": "a5c88d67",
   "metadata": {},
   "outputs": [
    {
     "data": {
      "text/plain": [
       "<AxesSubplot:xlabel='Product'>"
      ]
     },
     "execution_count": 36,
     "metadata": {},
     "output_type": "execute_result"
    },
    {
     "data": {
      "image/png": "[encoded data removed]",
      "text/plain": [
       "<Figure size 640x480 with 1 Axes>"
      ]
     },
     "metadata": {},
     "output_type": "display_data"
    }
   ],
   "source": [
    "#  Task-11 Plot bar graph of the total no of disputes products-wise with the help of seaborn\n",
    "\n",
    "sns.barplot(final_df[final_df['Disputed_Cons']=='Yes']['Product'].value_counts(),data=final_df)"
   ]
  },
  {
   "cell_type": "code",
   "execution_count": 37,
   "id": "d78070a3",
   "metadata": {},
   "outputs": [],
   "source": [
    "# Task-12 Plot bar graph of the total no of disputes with Top Issues by Highest Disputes, with the help of seaborn"
   ]
  },
  {
   "cell_type": "code",
   "execution_count": 38,
   "id": "61efb4bb",
   "metadata": {},
   "outputs": [
    {
     "data": {
      "text/plain": [
       "Product                         Bank account or serviceDebt collectionCredit c...\n",
       "Issue                           Deposits and withdrawalsDisclosure verificatio...\n",
       "Company                         Wells Fargo & CompanyHCFS Health Care Financia...\n",
       "State                           GACAFLILPAUTCAUTUTCAFLMONJFLVACOFLCTFLMIOHLAOR...\n",
       "Submitted via                   WebWebWebWebWebWebWebWebWebReferralWebWebWebWe...\n",
       "Company response to consumer    Closed with explanationClosed with explanation...\n",
       "Timely response?                YesYesYesYesYesYesYesYesYesYesYesYesYesYesYesY...\n",
       "Consumer disputed?              YesYesYesYesYesYesYesYesYesYesYesYesYesYesYesY...\n",
       "Date                            0401011204070104080201040307060408080409060508...\n",
       "Month                           2630100705220601042921030827090613212601222430...\n",
       "Year                            2015201520142015201220152012201520152012201420...\n",
       "Days_held                                                                     NaT\n",
       "Disputed_Cons                   YesYesYesYesYesYesYesYesYesYesYesYesYesYesYesY...\n",
       "dtype: object"
      ]
     },
     "execution_count": 38,
     "metadata": {},
     "output_type": "execute_result"
    }
   ],
   "source": [
    "max_dispute_df=final_df[final_df['Disputed_Cons']=='Yes'].sum()\n",
    "max_dispute_df"
   ]
  },
  {
   "cell_type": "code",
   "execution_count": 39,
   "id": "08ddf383",
   "metadata": {},
   "outputs": [
    {
     "data": {
      "text/plain": [
       "18"
      ]
     },
     "execution_count": 39,
     "metadata": {},
     "output_type": "execute_result"
    }
   ],
   "source": [
    "top_issues=((final_df[[\"Issue\"]].value_counts()>6000).sum())\n",
    "top_issues"
   ]
  },
  {
   "cell_type": "code",
   "execution_count": 40,
   "id": "9d976435",
   "metadata": {},
   "outputs": [
    {
     "ename": "TypeError",
     "evalue": "'DataFrame' object is not callable",
     "output_type": "error",
     "traceback": [
      "\u001b[1;31m---------------------------------------------------------------------------\u001b[0m",
      "\u001b[1;31mTypeError\u001b[0m                                 Traceback (most recent call last)",
      "\u001b[1;32m~\\AppData\\Local\\Temp\\ipykernel_4992\\207930909.py\u001b[0m in \u001b[0;36m<module>\u001b[1;34m\u001b[0m\n\u001b[1;32m----> 1\u001b[1;33m \u001b[0mfinal_df\u001b[0m\u001b[1;33m(\u001b[0m\u001b[0mfinal_df\u001b[0m\u001b[1;33m[\u001b[0m\u001b[1;34m'Disputed_Cons'\u001b[0m\u001b[1;33m]\u001b[0m\u001b[1;33m==\u001b[0m\u001b[1;34m'Yes'\u001b[0m\u001b[1;33m)\u001b[0m\u001b[1;33m[\u001b[0m\u001b[1;33m(\u001b[0m\u001b[0mfinal_df\u001b[0m\u001b[1;33m[\u001b[0m\u001b[1;34m\"Issue\"\u001b[0m\u001b[1;33m]\u001b[0m\u001b[1;33m.\u001b[0m\u001b[0mvalue_counts\u001b[0m\u001b[1;33m(\u001b[0m\u001b[1;33m)\u001b[0m\u001b[1;33m>\u001b[0m\u001b[1;36m6000\u001b[0m\u001b[1;33m)\u001b[0m\u001b[1;33m.\u001b[0m\u001b[0msum\u001b[0m\u001b[1;33m(\u001b[0m\u001b[1;33m)\u001b[0m\u001b[1;33m]\u001b[0m \u001b[1;33m&\u001b[0m \u001b[1;33m(\u001b[0m\u001b[0mmax_dispute_df\u001b[0m\u001b[1;33m)\u001b[0m\u001b[1;33m\u001b[0m\u001b[1;33m\u001b[0m\u001b[0m\n\u001b[0m",
      "\u001b[1;31mTypeError\u001b[0m: 'DataFrame' object is not callable"
     ]
    }
   ],
   "source": [
    "final_df(final_df['Disputed_Cons']=='Yes')[(final_df[\"Issue\"].value_counts()>6000).sum()] & (max_dispute_df)"
   ]
  },
  {
   "cell_type": "code",
   "execution_count": null,
   "id": "834aed67",
   "metadata": {},
   "outputs": [],
   "source": []
  },
  {
   "cell_type": "code",
   "execution_count": null,
   "id": "63b639c9",
   "metadata": {},
   "outputs": [],
   "source": [
    "# Task -13 Plot bar graph of the total no of disputes by State with Maximum Disputes"
   ]
  },
  {
   "cell_type": "code",
   "execution_count": 41,
   "id": "513b4229",
   "metadata": {},
   "outputs": [
    {
     "data": {
      "text/plain": [
       "76172"
      ]
     },
     "execution_count": 41,
     "metadata": {},
     "output_type": "execute_result"
    }
   ],
   "source": [
    "max_dispute_df=final_df[final_df['Disputed_Cons']=='Yes'].count().max()\n",
    "max_dispute_df"
   ]
  },
  {
   "cell_type": "code",
   "execution_count": 42,
   "id": "54e97871",
   "metadata": {},
   "outputs": [
    {
     "data": {
      "text/plain": [
       "<AxesSubplot:xlabel='State'>"
      ]
     },
     "execution_count": 42,
     "metadata": {},
     "output_type": "execute_result"
    },
    {
     "data": {
      "image/png": "[encoded data removed]",
      "text/plain": [
       "<Figure size 640x480 with 1 Axes>"
      ]
     },
     "metadata": {},
     "output_type": "display_data"
    }
   ],
   "source": [
    "sns.barplot((final_df.groupby(final_df['Disputed_Cons']=='Yes')['State'].value_counts() & (max_dispute_df)))"
   ]
  },
  {
   "cell_type": "code",
   "execution_count": 43,
   "id": "e2fafd0e",
   "metadata": {},
   "outputs": [],
   "source": [
    "#  Task-14 Plot bar graph of the total no of disputes Submitted Via different source\n",
    "graph=final_df[final_df['Disputed_Cons'] == 'Yes']['Submitted via'].value_counts()"
   ]
  },
  {
   "cell_type": "code",
   "execution_count": 44,
   "id": "81a9e034",
   "metadata": {},
   "outputs": [
    {
     "data": {
      "text/plain": [
       "<AxesSubplot:xlabel='Submitted via'>"
      ]
     },
     "execution_count": 44,
     "metadata": {},
     "output_type": "execute_result"
    },
    {
     "data": {
      "image/png": "[encoded data removed]",
      "text/plain": [
       "<Figure size 640x480 with 1 Axes>"
      ]
     },
     "metadata": {},
     "output_type": "display_data"
    }
   ],
   "source": [
    "sns.barplot(graph)"
   ]
  },
  {
   "cell_type": "code",
   "execution_count": 45,
   "id": "2285d3cd",
   "metadata": {},
   "outputs": [],
   "source": [
    "# Task-15 Plot bar graph of the total no of disputes where the Company's Response to the Complaints"
   ]
  },
  {
   "cell_type": "code",
   "execution_count": 22,
   "id": "14a7109f",
   "metadata": {},
   "outputs": [
    {
     "data": {
      "text/plain": [
       "False    478416\n",
       "Name: Company response to consumer, dtype: int64"
      ]
     },
     "execution_count": 22,
     "metadata": {},
     "output_type": "execute_result"
    }
   ],
   "source": [
    "(final_df['Company response to consumer']=='False').value_counts()"
   ]
  },
  {
   "cell_type": "code",
   "execution_count": 23,
   "id": "9b9fdf08",
   "metadata": {},
   "outputs": [],
   "source": [
    "df['Date']=df['Date received'].str.split('-').str[1]\n",
    "df['Month']=df['Date received'].str.split('-').str[2]\n",
    "df['Year']=df['Date received'].str.split('-').str[0]"
   ]
  },
  {
   "cell_type": "code",
   "execution_count": 24,
   "id": "ba76af74",
   "metadata": {
    "scrolled": true
   },
   "outputs": [
    {
     "data": {
      "text/html": [
       "<div>\n",
       "<style scoped>\n",
       "    .dataframe tbody tr th:only-of-type {\n",
       "        vertical-align: middle;\n",
       "    }\n",
       "\n",
       "    .dataframe tbody tr th {\n",
       "        vertical-align: top;\n",
       "    }\n",
       "\n",
       "    .dataframe thead th {\n",
       "        text-align: right;\n",
       "    }\n",
       "</style>\n",
       "<table border=\"1\" class=\"dataframe\">\n",
       "  <thead>\n",
       "    <tr style=\"text-align: right;\">\n",
       "      <th></th>\n",
       "      <th>Date received</th>\n",
       "      <th>Product</th>\n",
       "      <th>Issue</th>\n",
       "      <th>Company</th>\n",
       "      <th>State</th>\n",
       "      <th>ZIP code</th>\n",
       "      <th>Submitted via</th>\n",
       "      <th>Date sent to company</th>\n",
       "      <th>Company response to consumer</th>\n",
       "      <th>Timely response?</th>\n",
       "      <th>Consumer disputed?</th>\n",
       "      <th>Complaint ID</th>\n",
       "      <th>Date</th>\n",
       "      <th>Month</th>\n",
       "      <th>Year</th>\n",
       "    </tr>\n",
       "  </thead>\n",
       "  <tbody>\n",
       "    <tr>\n",
       "      <th>0</th>\n",
       "      <td>2015-10-14</td>\n",
       "      <td>Credit reporting</td>\n",
       "      <td>Incorrect information on credit report</td>\n",
       "      <td>Equifax</td>\n",
       "      <td>GA</td>\n",
       "      <td>30134</td>\n",
       "      <td>Web</td>\n",
       "      <td>2015-10-14</td>\n",
       "      <td>Closed with explanation</td>\n",
       "      <td>Yes</td>\n",
       "      <td>No</td>\n",
       "      <td>1605653</td>\n",
       "      <td>10</td>\n",
       "      <td>14</td>\n",
       "      <td>2015</td>\n",
       "    </tr>\n",
       "    <tr>\n",
       "      <th>1</th>\n",
       "      <td>2015-04-26</td>\n",
       "      <td>Bank account or service</td>\n",
       "      <td>Deposits and withdrawals</td>\n",
       "      <td>Wells Fargo &amp; Company</td>\n",
       "      <td>GA</td>\n",
       "      <td>319XX</td>\n",
       "      <td>Web</td>\n",
       "      <td>2015-04-26</td>\n",
       "      <td>Closed with explanation</td>\n",
       "      <td>Yes</td>\n",
       "      <td>Yes</td>\n",
       "      <td>1347613</td>\n",
       "      <td>04</td>\n",
       "      <td>26</td>\n",
       "      <td>2015</td>\n",
       "    </tr>\n",
       "    <tr>\n",
       "      <th>2</th>\n",
       "      <td>2013-12-20</td>\n",
       "      <td>Credit card</td>\n",
       "      <td>Other</td>\n",
       "      <td>Citibank</td>\n",
       "      <td>SC</td>\n",
       "      <td>29203</td>\n",
       "      <td>Phone</td>\n",
       "      <td>2014-01-03</td>\n",
       "      <td>Closed with non-monetary relief</td>\n",
       "      <td>Yes</td>\n",
       "      <td>No</td>\n",
       "      <td>640394</td>\n",
       "      <td>12</td>\n",
       "      <td>20</td>\n",
       "      <td>2013</td>\n",
       "    </tr>\n",
       "    <tr>\n",
       "      <th>3</th>\n",
       "      <td>2016-03-03</td>\n",
       "      <td>Debt collection</td>\n",
       "      <td>Disclosure verification of debt</td>\n",
       "      <td>FAIR COLLECTIONS &amp; OUTSOURCING, INC.</td>\n",
       "      <td>OH</td>\n",
       "      <td>43082</td>\n",
       "      <td>Referral</td>\n",
       "      <td>2016-03-04</td>\n",
       "      <td>Closed with explanation</td>\n",
       "      <td>Yes</td>\n",
       "      <td>No</td>\n",
       "      <td>1815134</td>\n",
       "      <td>03</td>\n",
       "      <td>03</td>\n",
       "      <td>2016</td>\n",
       "    </tr>\n",
       "    <tr>\n",
       "      <th>4</th>\n",
       "      <td>2015-01-30</td>\n",
       "      <td>Debt collection</td>\n",
       "      <td>Disclosure verification of debt</td>\n",
       "      <td>HCFS Health Care Financial Services, Inc.</td>\n",
       "      <td>CA</td>\n",
       "      <td>90036</td>\n",
       "      <td>Web</td>\n",
       "      <td>2015-01-30</td>\n",
       "      <td>Closed with explanation</td>\n",
       "      <td>Yes</td>\n",
       "      <td>Yes</td>\n",
       "      <td>1218613</td>\n",
       "      <td>01</td>\n",
       "      <td>30</td>\n",
       "      <td>2015</td>\n",
       "    </tr>\n",
       "  </tbody>\n",
       "</table>\n",
       "</div>"
      ],
      "text/plain": [
       "  Date received                  Product  \\\n",
       "0    2015-10-14         Credit reporting   \n",
       "1    2015-04-26  Bank account or service   \n",
       "2    2013-12-20              Credit card   \n",
       "3    2016-03-03          Debt collection   \n",
       "4    2015-01-30          Debt collection   \n",
       "\n",
       "                                    Issue  \\\n",
       "0  Incorrect information on credit report   \n",
       "1                Deposits and withdrawals   \n",
       "2                                   Other   \n",
       "3         Disclosure verification of debt   \n",
       "4         Disclosure verification of debt   \n",
       "\n",
       "                                     Company State ZIP code Submitted via  \\\n",
       "0                                    Equifax    GA    30134           Web   \n",
       "1                      Wells Fargo & Company    GA    319XX           Web   \n",
       "2                                   Citibank    SC    29203         Phone   \n",
       "3       FAIR COLLECTIONS & OUTSOURCING, INC.    OH    43082      Referral   \n",
       "4  HCFS Health Care Financial Services, Inc.    CA    90036           Web   \n",
       "\n",
       "  Date sent to company     Company response to consumer Timely response?  \\\n",
       "0           2015-10-14          Closed with explanation              Yes   \n",
       "1           2015-04-26          Closed with explanation              Yes   \n",
       "2           2014-01-03  Closed with non-monetary relief              Yes   \n",
       "3           2016-03-04          Closed with explanation              Yes   \n",
       "4           2015-01-30          Closed with explanation              Yes   \n",
       "\n",
       "  Consumer disputed?  Complaint ID Date Month  Year  \n",
       "0                 No       1605653   10    14  2015  \n",
       "1                Yes       1347613   04    26  2015  \n",
       "2                 No        640394   12    20  2013  \n",
       "3                 No       1815134   03    03  2016  \n",
       "4                Yes       1218613   01    30  2015  "
      ]
     },
     "execution_count": 24,
     "metadata": {},
     "output_type": "execute_result"
    }
   ],
   "source": [
    "df_new=df\n",
    "df_new.head()"
   ]
  },
  {
   "cell_type": "code",
   "execution_count": 25,
   "id": "282855a5",
   "metadata": {},
   "outputs": [
    {
     "ename": "NameError",
     "evalue": "name 'new_df' is not defined",
     "output_type": "error",
     "traceback": [
      "\u001b[1;31m---------------------------------------------------------------------------\u001b[0m",
      "\u001b[1;31mNameError\u001b[0m                                 Traceback (most recent call last)",
      "\u001b[1;32m~\\AppData\\Local\\Temp\\ipykernel_7300\\2178569177.py\u001b[0m in \u001b[0;36m<module>\u001b[1;34m\u001b[0m\n\u001b[1;32m----> 1\u001b[1;33m \u001b[0mcom_df\u001b[0m\u001b[1;33m=\u001b[0m\u001b[1;33m(\u001b[0m\u001b[0mnew_df\u001b[0m\u001b[1;33m[\u001b[0m\u001b[1;34m'Company response to consumer'\u001b[0m\u001b[1;33m]\u001b[0m\u001b[1;33m[\u001b[0m\u001b[0mnew_df\u001b[0m\u001b[1;33m[\u001b[0m\u001b[1;34m'Consumer complaint narrative'\u001b[0m\u001b[1;33m]\u001b[0m\u001b[1;33m!=\u001b[0m\u001b[1;34m'NaN'\u001b[0m\u001b[1;33m]\u001b[0m\u001b[1;33m)\u001b[0m\u001b[1;33m.\u001b[0m\u001b[0mvalue_counts\u001b[0m\u001b[1;33m(\u001b[0m\u001b[1;33m)\u001b[0m\u001b[1;33m\u001b[0m\u001b[1;33m\u001b[0m\u001b[0m\n\u001b[0m\u001b[0;32m      2\u001b[0m \u001b[0mcom_df\u001b[0m\u001b[1;33m\u001b[0m\u001b[1;33m\u001b[0m\u001b[0m\n",
      "\u001b[1;31mNameError\u001b[0m: name 'new_df' is not defined"
     ]
    }
   ],
   "source": [
    "com_df=(new_df['Company response to consumer'][new_df['Consumer complaint narrative']!='NaN']).value_counts()\n",
    "com_df"
   ]
  },
  {
   "cell_type": "code",
   "execution_count": 29,
   "id": "33cabf7a",
   "metadata": {},
   "outputs": [],
   "source": [
    "con_df=new_df[new_df['Consumer disputed?']=='Yes'].value_counts()"
   ]
  },
  {
   "cell_type": "code",
   "execution_count": null,
   "id": "4c663c34",
   "metadata": {},
   "outputs": [],
   "source": [
    "new_df['Consumer disputed?'].fillna(0)"
   ]
  },
  {
   "cell_type": "code",
   "execution_count": 140,
   "id": "f3ed91d4",
   "metadata": {},
   "outputs": [
    {
     "data": {
      "text/plain": [
       "<AxesSubplot:xlabel='Company response to consumer'>"
      ]
     },
     "execution_count": 140,
     "metadata": {},
     "output_type": "execute_result"
    },
    {
     "data": {
      "image/png": "[encoded data removed]",
      "text/plain": [
       "<Figure size 640x480 with 1 Axes>"
      ]
     },
     "metadata": {},
     "output_type": "display_data"
    }
   ],
   "source": [
    "sns.barplot(com_df )"
   ]
  },
  {
   "cell_type": "code",
   "execution_count": 51,
   "id": "34a87486",
   "metadata": {},
   "outputs": [],
   "source": [
    "#  Task-16 Plot bar graph of the total no of disputes where the Company's Response Leads to Disputes"
   ]
  },
  {
   "cell_type": "code",
   "execution_count": 52,
   "id": "dcdea18a",
   "metadata": {},
   "outputs": [
    {
     "data": {
      "text/plain": [
       "Series([], dtype: int64)"
      ]
     },
     "execution_count": 52,
     "metadata": {},
     "output_type": "execute_result"
    }
   ],
   "source": [
    "(final_df[final_df[['Timely response?','Consumer disputed?']]=='Yes'] ).value_counts()"
   ]
  },
  {
   "cell_type": "code",
   "execution_count": 53,
   "id": "22c97d4d",
   "metadata": {},
   "outputs": [
    {
     "data": {
      "text/plain": [
       "<AxesSubplot:>"
      ]
     },
     "execution_count": 53,
     "metadata": {},
     "output_type": "execute_result"
    },
    {
     "data": {
      "image/png": "[encoded data removed]",
      "text/plain": [
       "<Figure size 640x480 with 1 Axes>"
      ]
     },
     "metadata": {},
     "output_type": "display_data"
    }
   ],
   "source": [
    "sns.barplot((final_df['Consumer disputed?']=='Yes')&(final_df['Timely response?'] =='Yes').value_counts())"
   ]
  },
  {
   "cell_type": "code",
   "execution_count": 54,
   "id": "d44372b6",
   "metadata": {},
   "outputs": [],
   "source": [
    "# Task -17 Plot bar graph of the total no of disputes. Whether there are Disputes Instead of Timely Response"
   ]
  },
  {
   "cell_type": "code",
   "execution_count": 160,
   "id": "a0b1aaae",
   "metadata": {},
   "outputs": [],
   "source": [
    "time_df=final_df[final_df['Timely response?']=='No']['Disputed_Cons'].value_counts()"
   ]
  },
  {
   "cell_type": "code",
   "execution_count": 162,
   "id": "639baf6b",
   "metadata": {},
   "outputs": [
    {
     "data": {
      "text/plain": [
       "<AxesSubplot:xlabel='Disputed_Cons'>"
      ]
     },
     "execution_count": 162,
     "metadata": {},
     "output_type": "execute_result"
    },
    {
     "data": {
      "image/png": "[encoded data removed]",
      "text/plain": [
       "<Figure size 640x480 with 1 Axes>"
      ]
     },
     "metadata": {},
     "output_type": "display_data"
    }
   ],
   "source": [
    "sns.barplot(time_df)"
   ]
  },
  {
   "cell_type": "code",
   "execution_count": 64,
   "id": "e31485aa",
   "metadata": {},
   "outputs": [],
   "source": [
    "#  Task- 18 Plot bar graph of the total no of disputes over Year Wise Complaints"
   ]
  },
  {
   "cell_type": "code",
   "execution_count": 94,
   "id": "560c98fd",
   "metadata": {},
   "outputs": [
    {
     "name": "stdout",
     "output_type": "stream",
     "text": [
      "<class 'pandas.core.frame.DataFrame'>\n",
      "RangeIndex: 358810 entries, 0 to 358809\n",
      "Data columns (total 21 columns):\n",
      " #   Column                        Non-Null Count   Dtype \n",
      "---  ------                        --------------   ----- \n",
      " 0   Date received                 358810 non-null  object\n",
      " 1   Product                       358810 non-null  object\n",
      " 2   Sub-product                   255024 non-null  object\n",
      " 3   Issue                         358810 non-null  object\n",
      " 4   Sub-issue                     139436 non-null  object\n",
      " 5   Consumer complaint narrative  56180 non-null   object\n",
      " 6   Company public response       67931 non-null   object\n",
      " 7   Company                       358810 non-null  object\n",
      " 8   State                         355907 non-null  object\n",
      " 9   ZIP code                      355899 non-null  object\n",
      " 10  Tags                          50226 non-null   object\n",
      " 11  Consumer consent provided?    101580 non-null  object\n",
      " 12  Submitted via                 358810 non-null  object\n",
      " 13  Date sent to company          358810 non-null  object\n",
      " 14  Company response to consumer  358810 non-null  object\n",
      " 15  Timely response?              358810 non-null  object\n",
      " 16  Consumer disputed?            358810 non-null  object\n",
      " 17  Complaint ID                  358810 non-null  int64 \n",
      " 18  Date                          358810 non-null  object\n",
      " 19  Month                         358810 non-null  object\n",
      " 20  Year                          358810 non-null  object\n",
      "dtypes: int64(1), object(20)\n",
      "memory usage: 57.5+ MB\n"
     ]
    }
   ],
   "source": [
    "df_new.info()"
   ]
  },
  {
   "cell_type": "code",
   "execution_count": 168,
   "id": "a570e648",
   "metadata": {},
   "outputs": [],
   "source": [
    "df_new1=(df_new[df_new['Consumer complaint narrative']!='NaN']['Year']).value_counts().sum() # year-wise Complaints"
   ]
  },
  {
   "cell_type": "code",
   "execution_count": 169,
   "id": "df03eec2",
   "metadata": {},
   "outputs": [
    {
     "data": {
      "text/plain": [
       "<AxesSubplot:xlabel='Disputed_Cons'>"
      ]
     },
     "execution_count": 169,
     "metadata": {},
     "output_type": "execute_result"
    },
    {
     "data": {
      "image/png": "[encoded data removed]",
      "text/plain": [
       "<Figure size 640x480 with 1 Axes>"
      ]
     },
     "metadata": {},
     "output_type": "display_data"
    }
   ],
   "source": [
    "sns.barplot(total_disputed & df_new1) # the total no of disputes over Year Wise Complaints"
   ]
  },
  {
   "cell_type": "code",
   "execution_count": 76,
   "id": "1f86b3cd",
   "metadata": {},
   "outputs": [],
   "source": [
    "# Task-19 Plot bar graph of the total no of disputes over Year Wise Disputes"
   ]
  },
  {
   "cell_type": "code",
   "execution_count": 78,
   "id": "df720197",
   "metadata": {},
   "outputs": [],
   "source": [
    "df_n=(df_new[df_new['Consumer disputed?']=='Yes']['Year']).value_counts().sum()"
   ]
  },
  {
   "cell_type": "code",
   "execution_count": 79,
   "id": "94a5eb80",
   "metadata": {},
   "outputs": [
    {
     "data": {
      "text/plain": [
       "<AxesSubplot:xlabel='Disputed_Cons'>"
      ]
     },
     "execution_count": 79,
     "metadata": {},
     "output_type": "execute_result"
    },
    {
     "data": {
      "image/png": "[encoded data removed]",
      "text/plain": [
       "<Figure size 640x480 with 1 Axes>"
      ]
     },
     "metadata": {},
     "output_type": "display_data"
    }
   ],
   "source": [
    "sns.barplot(total_disputed & df_n)"
   ]
  },
  {
   "cell_type": "code",
   "execution_count": null,
   "id": "5bd1f247",
   "metadata": {},
   "outputs": [],
   "source": []
  },
  {
   "cell_type": "code",
   "execution_count": 69,
   "id": "ed498e86",
   "metadata": {},
   "outputs": [],
   "source": [
    "# Task-20 Plot bar graph of Top Companies with Highest Complaints"
   ]
  },
  {
   "cell_type": "code",
   "execution_count": 165,
   "id": "4c46eeb1",
   "metadata": {},
   "outputs": [
    {
     "data": {
      "text/plain": [
       "Bank of America                           34903\n",
       "Wells Fargo & Company                     26490\n",
       "JPMorgan Chase & Co.                      21677\n",
       "Equifax                                   21489\n",
       "Experian                                  20075\n",
       "TransUnion Intermediate Holdings, Inc.    16881\n",
       "Citibank                                  16792\n",
       "Ocwen                                     13110\n",
       "Capital One                               10082\n",
       "Nationstar Mortgage                        8414\n",
       "Name: Company, dtype: int64"
      ]
     },
     "execution_count": 165,
     "metadata": {},
     "output_type": "execute_result"
    }
   ],
   "source": [
    "# top companies with highest Complaints\n",
    "df_ne=(df_new[df_new['Consumer complaint narrative']!='Nan']['Company']).value_counts(sort='descending').head(10)\n",
    "df_ne"
   ]
  },
  {
   "cell_type": "code",
   "execution_count": 166,
   "id": "5b6ac4b4",
   "metadata": {},
   "outputs": [
    {
     "data": {
      "text/plain": [
       "<AxesSubplot:xlabel='Company'>"
      ]
     },
     "execution_count": 166,
     "metadata": {},
     "output_type": "execute_result"
    },
    {
     "data": {
      "image/png": "[encoded data removed]",
      "text/plain": [
       "<Figure size 640x480 with 1 Axes>"
      ]
     },
     "metadata": {},
     "output_type": "display_data"
    }
   ],
   "source": [
    "sns.barplot(df_ne)"
   ]
  },
  {
   "cell_type": "code",
   "execution_count": null,
   "id": "c250d526",
   "metadata": {},
   "outputs": [],
   "source": []
  },
  {
   "cell_type": "code",
   "execution_count": null,
   "id": "5c92cb97",
   "metadata": {},
   "outputs": [],
   "source": [
    "#  Task-21 Converte all negative days held to zero (it is the time taken by the authority that can't be negative)"
   ]
  },
  {
   "cell_type": "code",
   "execution_count": 26,
   "id": "4bd898ad",
   "metadata": {},
   "outputs": [
    {
     "data": {
      "text/plain": [
       "array([                0,  1209600000000000,    86400000000000,\n",
       "         432000000000000,   604800000000000,   345600000000000,\n",
       "        1728000000000000,   518400000000000,   259200000000000,\n",
       "         172800000000000,   -86400000000000,  1555200000000000,\n",
       "         950400000000000,  6393600000000000,   864000000000000,\n",
       "        2764800000000000,   691200000000000,  3110400000000000,\n",
       "        2419200000000000,   777600000000000,  3283200000000000,\n",
       "        2332800000000000,  4147200000000000,  4752000000000000,\n",
       "        2851200000000000,  2937600000000000,  1123200000000000,\n",
       "        1036800000000000, 34387200000000000,  1296000000000000,\n",
       "        5961600000000000,  1900800000000000, 18144000000000000,\n",
       "        1468800000000000,  3888000000000000,  6480000000000000,\n",
       "        4406400000000000,  3196800000000000,  1641600000000000,\n",
       "        1987200000000000,  1814400000000000, 17452800000000000,\n",
       "        4320000000000000,  3801600000000000,  1382400000000000,\n",
       "        2505600000000000,  3456000000000000, 10368000000000000,\n",
       "        2160000000000000,  2246400000000000,  3974400000000000,\n",
       "       13305600000000000,  2073600000000000,  4233600000000000,\n",
       "        4060800000000000, 21081600000000000,  2592000000000000,\n",
       "        3542400000000000,  3715200000000000,  5356800000000000,\n",
       "       22118400000000000,  4579200000000000,  2678400000000000,\n",
       "        8985600000000000, 19353600000000000,  5788800000000000,\n",
       "        6220800000000000,  5270400000000000,  5011200000000000,\n",
       "       23068800000000000,  7257600000000000,  6652800000000000,\n",
       "       16761600000000000, 20044800000000000, 10713600000000000,\n",
       "        6134400000000000,  8294400000000000,  6048000000000000,\n",
       "        6998400000000000, 16416000000000000, 16588800000000000,\n",
       "        9763200000000000,  8208000000000000,  8553600000000000,\n",
       "        4838400000000000,  7344000000000000,  3024000000000000,\n",
       "       17280000000000000,  3628800000000000, 19699200000000000,\n",
       "        7948800000000000, 17020800000000000, 14515200000000000,\n",
       "       13737600000000000, 17971200000000000,  6307200000000000,\n",
       "        5616000000000000, 15033600000000000,  3369600000000000,\n",
       "       12268800000000000, 17193600000000000, 16156800000000000,\n",
       "       14342400000000000, 12355200000000000, 16934400000000000,\n",
       "        5443200000000000, 13046400000000000, 14169600000000000,\n",
       "        8467200000000000, 17712000000000000, 17366400000000000,\n",
       "       11923200000000000, 18662400000000000,  4665600000000000,\n",
       "       15724800000000000, 18057600000000000,  6566400000000000,\n",
       "        5875200000000000, 13824000000000000,  9590400000000000,\n",
       "       41126400000000000,  8121600000000000, 19958400000000000,\n",
       "       10972800000000000, 30067200000000000,  4924800000000000,\n",
       "        6825600000000000, 15379200000000000,  6739200000000000,\n",
       "       32313600000000000,  5097600000000000,  5529600000000000,\n",
       "       13996800000000000, 17107200000000000, 13651200000000000,\n",
       "       13478400000000000, 16070400000000000,  5702400000000000,\n",
       "       11750400000000000, 34992000000000000, 25228800000000000,\n",
       "       11318400000000000, 17798400000000000,  4492800000000000,\n",
       "       44150400000000000,  8812800000000000,  9417600000000000,\n",
       "       15292800000000000, 20649600000000000, 12614400000000000,\n",
       "       32832000000000000, 14083200000000000,  7084800000000000,\n",
       "       18316800000000000, 13219200000000000, 10195200000000000,\n",
       "        5184000000000000, 23760000000000000, 39830400000000000,\n",
       "       27043200000000000,  8035200000000000,  7603200000000000,\n",
       "       30844800000000000, 13132800000000000, 17539200000000000,\n",
       "       22982400000000000, 10108800000000000,  8380800000000000,\n",
       "        9158400000000000, 18230400000000000, 20476800000000000,\n",
       "       22809600000000000, 12960000000000000, 10886400000000000,\n",
       "       12787200000000000, 21859200000000000, 17884800000000000,\n",
       "        7430400000000000, 19612800000000000, 18748800000000000,\n",
       "       10022400000000000, 21945600000000000, 20131200000000000,\n",
       "       14601600000000000, 15897600000000000, 20995200000000000,\n",
       "        9676800000000000,  9072000000000000, 12182400000000000,\n",
       "       20390400000000000, 15638400000000000, 15120000000000000,\n",
       "       15206400000000000, 16675200000000000,  9936000000000000,\n",
       "       18403200000000000, 20822400000000000, 30240000000000000,\n",
       "       10540800000000000,  7171200000000000, 10281600000000000,\n",
       "       54691200000000000, 21168000000000000, 23587200000000000,\n",
       "       22204800000000000, 34473600000000000, 17625600000000000,\n",
       "       16502400000000000, 13910400000000000,  7862400000000000,\n",
       "        7776000000000000,  7516800000000000, 49766400000000000,\n",
       "       14774400000000000, 13392000000000000, 11577600000000000,\n",
       "       18921600000000000, 18489600000000000, 19440000000000000,\n",
       "       16848000000000000, 18576000000000000,  8640000000000000,\n",
       "        9331200000000000, 12700800000000000, 53481600000000000,\n",
       "       10627200000000000, 52876800000000000, 23155200000000000,\n",
       "       15984000000000000, 32227200000000000, 26092800000000000,\n",
       "       11404800000000000, 12441600000000000, 41558400000000000,\n",
       "        9504000000000000,  8899200000000000, 11664000000000000,\n",
       "       15811200000000000, 26611200000000000, 15552000000000000,\n",
       "       11491200000000000, 19526400000000000, 12009600000000000,\n",
       "       49507200000000000, 28080000000000000, 18835200000000000,\n",
       "       12096000000000000, 16329600000000000, 20736000000000000,\n",
       "       21254400000000000, 22032000000000000, 21340800000000000,\n",
       "        6912000000000000, 14688000000000000, 10454400000000000,\n",
       "       32572800000000000, 22723200000000000, 14947200000000000,\n",
       "       16243200000000000, 52963200000000000, 19872000000000000,\n",
       "       45273600000000000, 21513600000000000, 28166400000000000,\n",
       "       23500800000000000, 20217600000000000,  9244800000000000,\n",
       "       22896000000000000, 28512000000000000, 19094400000000000,\n",
       "        8726400000000000, 14256000000000000, 34300800000000000,\n",
       "       24105600000000000, 26006400000000000,  7689600000000000,\n",
       "       20908800000000000, 19267200000000000, 11145600000000000,\n",
       "       22291200000000000, 14860800000000000, 10800000000000000,\n",
       "       22550400000000000,  9849600000000000, 33782400000000000,\n",
       "       49075200000000000, 40089600000000000, 29808000000000000,\n",
       "       20304000000000000, 19008000000000000, 19785600000000000,\n",
       "       29635200000000000, 19180800000000000, 21686400000000000,\n",
       "       11059200000000000, 15465600000000000, 33523200000000000,\n",
       "       26352000000000000, 12528000000000000, 21772800000000000,\n",
       "       24278400000000000, 12873600000000000, 27734400000000000,\n",
       "       23673600000000000, 30931200000000000, 50025600000000000,\n",
       "       27907200000000000, 49939200000000000, 39916800000000000,\n",
       "       24624000000000000, 14428800000000000, 40003200000000000,\n",
       "       27475200000000000, 13564800000000000, 32659200000000000,\n",
       "       22377600000000000, 54086400000000000, 54000000000000000,\n",
       "       28944000000000000, 46656000000000000, 11232000000000000,\n",
       "       57974400000000000, 33955200000000000, 29980800000000000,\n",
       "       28252800000000000, 24969600000000000, 51926400000000000,\n",
       "       20563200000000000, 25747200000000000, 21600000000000000,\n",
       "       37411200000000000, 24364800000000000, 21427200000000000,\n",
       "       59011200000000000, 33868800000000000, 44064000000000000,\n",
       "       25833600000000000, 24451200000000000, 85795200000000000,\n",
       "       32486400000000000, 27993600000000000, 31017600000000000,\n",
       "       53308800000000000, 27216000000000000, 46742400000000000,\n",
       "       24796800000000000, 29548800000000000, 61689600000000000,\n",
       "       28857600000000000, 37670400000000000, 30758400000000000,\n",
       "       24192000000000000, 34560000000000000, 31363200000000000,\n",
       "       44928000000000000, 50803200000000000, 54432000000000000,\n",
       "       37929600000000000, 26784000000000000, 26870400000000000,\n",
       "       23241600000000000, 50284800000000000, 50457600000000000,\n",
       "       25056000000000000, 52358400000000000, 33696000000000000,\n",
       "       54518400000000000, 50889600000000000, 42854400000000000,\n",
       "       24710400000000000, 35251200000000000, 47088000000000000,\n",
       "       32745600000000000, 35769600000000000, 30412800000000000,\n",
       "       22636800000000000, 23414400000000000, 34128000000000000,\n",
       "       11836800000000000, 25574400000000000, 33004800000000000,\n",
       "       49680000000000000, 28339200000000000, 25142400000000000,\n",
       "       49852800000000000, 23328000000000000, 55209600000000000,\n",
       "       36633600000000000, 25315200000000000, 31449600000000000,\n",
       "       29894400000000000, 71884800000000000, 26179200000000000,\n",
       "       31536000000000000, 49334400000000000, 27648000000000000,\n",
       "       29030400000000000, 31622400000000000], dtype='timedelta64[ns]')"
      ]
     },
     "execution_count": 26,
     "metadata": {},
     "output_type": "execute_result"
    }
   ],
   "source": [
    "final_df['Days_held'].unique() # no values of Day_held column is negative"
   ]
  },
  {
   "cell_type": "code",
   "execution_count": 27,
   "id": "9bdf11da",
   "metadata": {},
   "outputs": [
    {
     "data": {
      "text/html": [
       "<div>\n",
       "<style scoped>\n",
       "    .dataframe tbody tr th:only-of-type {\n",
       "        vertical-align: middle;\n",
       "    }\n",
       "\n",
       "    .dataframe tbody tr th {\n",
       "        vertical-align: top;\n",
       "    }\n",
       "\n",
       "    .dataframe thead th {\n",
       "        text-align: right;\n",
       "    }\n",
       "</style>\n",
       "<table border=\"1\" class=\"dataframe\">\n",
       "  <thead>\n",
       "    <tr style=\"text-align: right;\">\n",
       "      <th></th>\n",
       "      <th>Product</th>\n",
       "      <th>Issue</th>\n",
       "      <th>Submitted via</th>\n",
       "      <th>Company response to consumer</th>\n",
       "      <th>Timely response?</th>\n",
       "      <th>Consumer disputed?</th>\n",
       "      <th>Date</th>\n",
       "      <th>Month</th>\n",
       "      <th>Disputed_Cons</th>\n",
       "    </tr>\n",
       "  </thead>\n",
       "  <tbody>\n",
       "    <tr>\n",
       "      <th>0</th>\n",
       "      <td>Credit reporting</td>\n",
       "      <td>Incorrect information on credit report</td>\n",
       "      <td>Web</td>\n",
       "      <td>Closed with explanation</td>\n",
       "      <td>Yes</td>\n",
       "      <td>No</td>\n",
       "      <td>10</td>\n",
       "      <td>14</td>\n",
       "      <td>No</td>\n",
       "    </tr>\n",
       "    <tr>\n",
       "      <th>1</th>\n",
       "      <td>Bank account or service</td>\n",
       "      <td>Deposits and withdrawals</td>\n",
       "      <td>Web</td>\n",
       "      <td>Closed with explanation</td>\n",
       "      <td>Yes</td>\n",
       "      <td>Yes</td>\n",
       "      <td>04</td>\n",
       "      <td>26</td>\n",
       "      <td>Yes</td>\n",
       "    </tr>\n",
       "    <tr>\n",
       "      <th>2</th>\n",
       "      <td>Credit card</td>\n",
       "      <td>Other</td>\n",
       "      <td>Phone</td>\n",
       "      <td>Closed with non-monetary relief</td>\n",
       "      <td>Yes</td>\n",
       "      <td>No</td>\n",
       "      <td>12</td>\n",
       "      <td>20</td>\n",
       "      <td>No</td>\n",
       "    </tr>\n",
       "    <tr>\n",
       "      <th>3</th>\n",
       "      <td>Debt collection</td>\n",
       "      <td>Disclosure verification of debt</td>\n",
       "      <td>Referral</td>\n",
       "      <td>Closed with explanation</td>\n",
       "      <td>Yes</td>\n",
       "      <td>No</td>\n",
       "      <td>03</td>\n",
       "      <td>03</td>\n",
       "      <td>No</td>\n",
       "    </tr>\n",
       "    <tr>\n",
       "      <th>4</th>\n",
       "      <td>Debt collection</td>\n",
       "      <td>Disclosure verification of debt</td>\n",
       "      <td>Web</td>\n",
       "      <td>Closed with explanation</td>\n",
       "      <td>Yes</td>\n",
       "      <td>Yes</td>\n",
       "      <td>01</td>\n",
       "      <td>30</td>\n",
       "      <td>Yes</td>\n",
       "    </tr>\n",
       "  </tbody>\n",
       "</table>\n",
       "</div>"
      ],
      "text/plain": [
       "                   Product                                   Issue  \\\n",
       "0         Credit reporting  Incorrect information on credit report   \n",
       "1  Bank account or service                Deposits and withdrawals   \n",
       "2              Credit card                                   Other   \n",
       "3          Debt collection         Disclosure verification of debt   \n",
       "4          Debt collection         Disclosure verification of debt   \n",
       "\n",
       "  Submitted via     Company response to consumer Timely response?  \\\n",
       "0           Web          Closed with explanation              Yes   \n",
       "1           Web          Closed with explanation              Yes   \n",
       "2         Phone  Closed with non-monetary relief              Yes   \n",
       "3      Referral          Closed with explanation              Yes   \n",
       "4           Web          Closed with explanation              Yes   \n",
       "\n",
       "  Consumer disputed? Date Month Disputed_Cons  \n",
       "0                 No   10    14            No  \n",
       "1                Yes   04    26           Yes  \n",
       "2                 No   12    20            No  \n",
       "3                 No   03    03            No  \n",
       "4                Yes   01    30           Yes  "
      ]
     },
     "execution_count": 27,
     "metadata": {},
     "output_type": "execute_result"
    }
   ],
   "source": [
    "# Task-22 Drop Unnecessary Columns for the Model Building\n",
    "# like:'Company', 'State', 'Year_Received', 'Days_held'\n",
    "final_df.drop(['Company','Year','State','Days_held'],axis=1,inplace=True)\n",
    "final_df.head()"
   ]
  },
  {
   "cell_type": "code",
   "execution_count": null,
   "id": "f66659e1",
   "metadata": {},
   "outputs": [],
   "source": [
    "#  Task-23 Change Consumer Disputed Column to 0 and 1(yes to 1, and no to 0)"
   ]
  },
  {
   "cell_type": "code",
   "execution_count": 28,
   "id": "14b543ea",
   "metadata": {},
   "outputs": [
    {
     "data": {
      "text/plain": [
       "0         0.0\n",
       "1         1.0\n",
       "2         0.0\n",
       "3         0.0\n",
       "4         1.0\n",
       "         ... \n",
       "119601    NaN\n",
       "119602    NaN\n",
       "119603    NaN\n",
       "119604    NaN\n",
       "119605    NaN\n",
       "Name: Consumer disputed?, Length: 478416, dtype: float64"
      ]
     },
     "execution_count": 28,
     "metadata": {},
     "output_type": "execute_result"
    }
   ],
   "source": [
    "final_df['Consumer disputed?'].map({'Yes':1,'No':0})"
   ]
  },
  {
   "cell_type": "code",
   "execution_count": 29,
   "id": "1f02f400",
   "metadata": {},
   "outputs": [],
   "source": [
    "# Task-24 Create Dummy Variables for categorical features and concat with the original data frame\n",
    "# like: 'Product,’ 'Submitted via,’ 'Company response to consumer,’ 'Timely response?'\n",
    "df_final=pd.get_dummies(final_df[['Product','Company response to consumer','Timely response?','Submitted via']])"
   ]
  },
  {
   "cell_type": "code",
   "execution_count": 30,
   "id": "8969b7bd",
   "metadata": {},
   "outputs": [
    {
     "data": {
      "text/html": [
       "<div>\n",
       "<style scoped>\n",
       "    .dataframe tbody tr th:only-of-type {\n",
       "        vertical-align: middle;\n",
       "    }\n",
       "\n",
       "    .dataframe tbody tr th {\n",
       "        vertical-align: top;\n",
       "    }\n",
       "\n",
       "    .dataframe thead th {\n",
       "        text-align: right;\n",
       "    }\n",
       "</style>\n",
       "<table border=\"1\" class=\"dataframe\">\n",
       "  <thead>\n",
       "    <tr style=\"text-align: right;\">\n",
       "      <th></th>\n",
       "      <th>Product</th>\n",
       "      <th>Issue</th>\n",
       "      <th>Submitted via</th>\n",
       "      <th>Company response to consumer</th>\n",
       "      <th>Timely response?</th>\n",
       "      <th>Consumer disputed?</th>\n",
       "      <th>Date</th>\n",
       "      <th>Month</th>\n",
       "      <th>Disputed_Cons</th>\n",
       "      <th>Product_Bank account or service</th>\n",
       "      <th>...</th>\n",
       "      <th>Company response to consumer_Closed with relief</th>\n",
       "      <th>Company response to consumer_Closed without relief</th>\n",
       "      <th>Timely response?_No</th>\n",
       "      <th>Timely response?_Yes</th>\n",
       "      <th>Submitted via_Email</th>\n",
       "      <th>Submitted via_Fax</th>\n",
       "      <th>Submitted via_Phone</th>\n",
       "      <th>Submitted via_Postal mail</th>\n",
       "      <th>Submitted via_Referral</th>\n",
       "      <th>Submitted via_Web</th>\n",
       "    </tr>\n",
       "  </thead>\n",
       "  <tbody>\n",
       "    <tr>\n",
       "      <th>0</th>\n",
       "      <td>Credit reporting</td>\n",
       "      <td>Incorrect information on credit report</td>\n",
       "      <td>Web</td>\n",
       "      <td>Closed with explanation</td>\n",
       "      <td>Yes</td>\n",
       "      <td>No</td>\n",
       "      <td>10</td>\n",
       "      <td>14</td>\n",
       "      <td>No</td>\n",
       "      <td>NaN</td>\n",
       "      <td>...</td>\n",
       "      <td>NaN</td>\n",
       "      <td>NaN</td>\n",
       "      <td>NaN</td>\n",
       "      <td>NaN</td>\n",
       "      <td>NaN</td>\n",
       "      <td>NaN</td>\n",
       "      <td>NaN</td>\n",
       "      <td>NaN</td>\n",
       "      <td>NaN</td>\n",
       "      <td>NaN</td>\n",
       "    </tr>\n",
       "    <tr>\n",
       "      <th>1</th>\n",
       "      <td>Bank account or service</td>\n",
       "      <td>Deposits and withdrawals</td>\n",
       "      <td>Web</td>\n",
       "      <td>Closed with explanation</td>\n",
       "      <td>Yes</td>\n",
       "      <td>Yes</td>\n",
       "      <td>04</td>\n",
       "      <td>26</td>\n",
       "      <td>Yes</td>\n",
       "      <td>NaN</td>\n",
       "      <td>...</td>\n",
       "      <td>NaN</td>\n",
       "      <td>NaN</td>\n",
       "      <td>NaN</td>\n",
       "      <td>NaN</td>\n",
       "      <td>NaN</td>\n",
       "      <td>NaN</td>\n",
       "      <td>NaN</td>\n",
       "      <td>NaN</td>\n",
       "      <td>NaN</td>\n",
       "      <td>NaN</td>\n",
       "    </tr>\n",
       "    <tr>\n",
       "      <th>2</th>\n",
       "      <td>Credit card</td>\n",
       "      <td>Other</td>\n",
       "      <td>Phone</td>\n",
       "      <td>Closed with non-monetary relief</td>\n",
       "      <td>Yes</td>\n",
       "      <td>No</td>\n",
       "      <td>12</td>\n",
       "      <td>20</td>\n",
       "      <td>No</td>\n",
       "      <td>NaN</td>\n",
       "      <td>...</td>\n",
       "      <td>NaN</td>\n",
       "      <td>NaN</td>\n",
       "      <td>NaN</td>\n",
       "      <td>NaN</td>\n",
       "      <td>NaN</td>\n",
       "      <td>NaN</td>\n",
       "      <td>NaN</td>\n",
       "      <td>NaN</td>\n",
       "      <td>NaN</td>\n",
       "      <td>NaN</td>\n",
       "    </tr>\n",
       "    <tr>\n",
       "      <th>3</th>\n",
       "      <td>Debt collection</td>\n",
       "      <td>Disclosure verification of debt</td>\n",
       "      <td>Referral</td>\n",
       "      <td>Closed with explanation</td>\n",
       "      <td>Yes</td>\n",
       "      <td>No</td>\n",
       "      <td>03</td>\n",
       "      <td>03</td>\n",
       "      <td>No</td>\n",
       "      <td>NaN</td>\n",
       "      <td>...</td>\n",
       "      <td>NaN</td>\n",
       "      <td>NaN</td>\n",
       "      <td>NaN</td>\n",
       "      <td>NaN</td>\n",
       "      <td>NaN</td>\n",
       "      <td>NaN</td>\n",
       "      <td>NaN</td>\n",
       "      <td>NaN</td>\n",
       "      <td>NaN</td>\n",
       "      <td>NaN</td>\n",
       "    </tr>\n",
       "    <tr>\n",
       "      <th>4</th>\n",
       "      <td>Debt collection</td>\n",
       "      <td>Disclosure verification of debt</td>\n",
       "      <td>Web</td>\n",
       "      <td>Closed with explanation</td>\n",
       "      <td>Yes</td>\n",
       "      <td>Yes</td>\n",
       "      <td>01</td>\n",
       "      <td>30</td>\n",
       "      <td>Yes</td>\n",
       "      <td>NaN</td>\n",
       "      <td>...</td>\n",
       "      <td>NaN</td>\n",
       "      <td>NaN</td>\n",
       "      <td>NaN</td>\n",
       "      <td>NaN</td>\n",
       "      <td>NaN</td>\n",
       "      <td>NaN</td>\n",
       "      <td>NaN</td>\n",
       "      <td>NaN</td>\n",
       "      <td>NaN</td>\n",
       "      <td>NaN</td>\n",
       "    </tr>\n",
       "  </tbody>\n",
       "</table>\n",
       "<p>5 rows × 35 columns</p>\n",
       "</div>"
      ],
      "text/plain": [
       "                   Product                                   Issue  \\\n",
       "0         Credit reporting  Incorrect information on credit report   \n",
       "1  Bank account or service                Deposits and withdrawals   \n",
       "2              Credit card                                   Other   \n",
       "3          Debt collection         Disclosure verification of debt   \n",
       "4          Debt collection         Disclosure verification of debt   \n",
       "\n",
       "  Submitted via     Company response to consumer Timely response?  \\\n",
       "0           Web          Closed with explanation              Yes   \n",
       "1           Web          Closed with explanation              Yes   \n",
       "2         Phone  Closed with non-monetary relief              Yes   \n",
       "3      Referral          Closed with explanation              Yes   \n",
       "4           Web          Closed with explanation              Yes   \n",
       "\n",
       "  Consumer disputed? Date Month Disputed_Cons  \\\n",
       "0                 No   10    14            No   \n",
       "1                Yes   04    26           Yes   \n",
       "2                 No   12    20            No   \n",
       "3                 No   03    03            No   \n",
       "4                Yes   01    30           Yes   \n",
       "\n",
       "   Product_Bank account or service  ...  \\\n",
       "0                              NaN  ...   \n",
       "1                              NaN  ...   \n",
       "2                              NaN  ...   \n",
       "3                              NaN  ...   \n",
       "4                              NaN  ...   \n",
       "\n",
       "   Company response to consumer_Closed with relief  \\\n",
       "0                                              NaN   \n",
       "1                                              NaN   \n",
       "2                                              NaN   \n",
       "3                                              NaN   \n",
       "4                                              NaN   \n",
       "\n",
       "   Company response to consumer_Closed without relief  Timely response?_No  \\\n",
       "0                                                NaN                   NaN   \n",
       "1                                                NaN                   NaN   \n",
       "2                                                NaN                   NaN   \n",
       "3                                                NaN                   NaN   \n",
       "4                                                NaN                   NaN   \n",
       "\n",
       "   Timely response?_Yes  Submitted via_Email  Submitted via_Fax  \\\n",
       "0                   NaN                  NaN                NaN   \n",
       "1                   NaN                  NaN                NaN   \n",
       "2                   NaN                  NaN                NaN   \n",
       "3                   NaN                  NaN                NaN   \n",
       "4                   NaN                  NaN                NaN   \n",
       "\n",
       "   Submitted via_Phone  Submitted via_Postal mail  Submitted via_Referral  \\\n",
       "0                  NaN                        NaN                     NaN   \n",
       "1                  NaN                        NaN                     NaN   \n",
       "2                  NaN                        NaN                     NaN   \n",
       "3                  NaN                        NaN                     NaN   \n",
       "4                  NaN                        NaN                     NaN   \n",
       "\n",
       "   Submitted via_Web  \n",
       "0                NaN  \n",
       "1                NaN  \n",
       "2                NaN  \n",
       "3                NaN  \n",
       "4                NaN  \n",
       "\n",
       "[5 rows x 35 columns]"
      ]
     },
     "execution_count": 30,
     "metadata": {},
     "output_type": "execute_result"
    }
   ],
   "source": [
    "data=[final_df,df_final]\n",
    "result=pd.concat(data)\n",
    "result.head()"
   ]
  },
  {
   "cell_type": "code",
   "execution_count": 31,
   "id": "c34d1105",
   "metadata": {},
   "outputs": [],
   "source": [
    "#  Task-25 Scaling the Data Sets (note: discard dependent variable before doing standardization)\n",
    "# and Make feature Selection with the help of PCA up to 80% of the information.\n",
    "from sklearn.preprocessing import StandardScaler\n",
    "from sklearn.preprocessing import MinMaxScaler # we use this to convert all value to 0 -1\n",
    "scaler=StandardScaler()"
   ]
  },
  {
   "cell_type": "code",
   "execution_count": 32,
   "id": "446fef0f",
   "metadata": {},
   "outputs": [
    {
     "data": {
      "text/plain": [
       "StandardScaler()"
      ]
     },
     "execution_count": 32,
     "metadata": {},
     "output_type": "execute_result"
    }
   ],
   "source": [
    "scaler.fit(df_final)"
   ]
  },
  {
   "cell_type": "code",
   "execution_count": 33,
   "id": "db5c1858",
   "metadata": {},
   "outputs": [],
   "source": [
    "scaled_data=scaler.transform(df_final)"
   ]
  },
  {
   "cell_type": "code",
   "execution_count": 34,
   "id": "e179e793",
   "metadata": {},
   "outputs": [
    {
     "data": {
      "text/plain": [
       "array([[-0.35819691, -0.20111862, -0.3690847 , ..., -0.26524275,\n",
       "        -0.48580804,  0.72389943],\n",
       "       [ 2.79176052, -0.20111862, -0.3690847 , ..., -0.26524275,\n",
       "        -0.48580804,  0.72389943],\n",
       "       [-0.35819691, -0.20111862,  2.70940521, ..., -0.26524275,\n",
       "        -0.48580804, -1.38140735],\n",
       "       ...,\n",
       "       [-0.35819691, -0.20111862, -0.3690847 , ..., -0.26524275,\n",
       "         2.05842619, -1.38140735],\n",
       "       [-0.35819691, -0.20111862, -0.3690847 , ..., -0.26524275,\n",
       "        -0.48580804,  0.72389943],\n",
       "       [-0.35819691, -0.20111862, -0.3690847 , ..., -0.26524275,\n",
       "        -0.48580804,  0.72389943]])"
      ]
     },
     "execution_count": 34,
     "metadata": {},
     "output_type": "execute_result"
    }
   ],
   "source": [
    "scaled_data"
   ]
  },
  {
   "cell_type": "code",
   "execution_count": 35,
   "id": "2431f532",
   "metadata": {},
   "outputs": [],
   "source": [
    "from sklearn.decomposition import PCA\n",
    "pca=PCA(n_components=3)"
   ]
  },
  {
   "cell_type": "code",
   "execution_count": 36,
   "id": "a4585b05",
   "metadata": {},
   "outputs": [
    {
     "data": {
      "text/plain": [
       "PCA(n_components=3)"
      ]
     },
     "execution_count": 36,
     "metadata": {},
     "output_type": "execute_result"
    }
   ],
   "source": [
    "pca.fit(scaled_data)"
   ]
  },
  {
   "cell_type": "code",
   "execution_count": 37,
   "id": "1aa06701",
   "metadata": {},
   "outputs": [],
   "source": [
    "x_pca=pca.transform(scaled_data)"
   ]
  },
  {
   "cell_type": "code",
   "execution_count": 38,
   "id": "a926aa0d",
   "metadata": {},
   "outputs": [
    {
     "data": {
      "text/plain": [
       "(478416, 26)"
      ]
     },
     "execution_count": 38,
     "metadata": {},
     "output_type": "execute_result"
    }
   ],
   "source": [
    "scaled_data.shape"
   ]
  },
  {
   "cell_type": "code",
   "execution_count": 39,
   "id": "d0a9fecf",
   "metadata": {},
   "outputs": [
    {
     "data": {
      "text/plain": [
       "(478416, 3)"
      ]
     },
     "execution_count": 39,
     "metadata": {},
     "output_type": "execute_result"
    }
   ],
   "source": [
    "x_pca.shape"
   ]
  },
  {
   "cell_type": "code",
   "execution_count": 70,
   "id": "7c43fe5a",
   "metadata": {},
   "outputs": [],
   "source": [
    "#  Task-26 Splitting the Data Sets Into X and Y by the dependent and independent variables (data selected by PCA)"
   ]
  },
  {
   "cell_type": "code",
   "execution_count": 41,
   "id": "f79b0e23",
   "metadata": {},
   "outputs": [],
   "source": [
    "y=df_final.iloc[:,0]\n",
    "X=df_final.iloc[:,1:]"
   ]
  },
  {
   "cell_type": "code",
   "execution_count": 42,
   "id": "1c222bf5",
   "metadata": {},
   "outputs": [
    {
     "data": {
      "text/plain": [
       "0         0\n",
       "1         1\n",
       "2         0\n",
       "3         0\n",
       "4         0\n",
       "         ..\n",
       "119601    0\n",
       "119602    0\n",
       "119603    0\n",
       "119604    0\n",
       "119605    0\n",
       "Name: Product_Bank account or service, Length: 478416, dtype: uint8"
      ]
     },
     "execution_count": 42,
     "metadata": {},
     "output_type": "execute_result"
    }
   ],
   "source": [
    "y"
   ]
  },
  {
   "cell_type": "code",
   "execution_count": null,
   "id": "f9875c7d",
   "metadata": {},
   "outputs": [],
   "source": [
    "# Logistic Regression"
   ]
  },
  {
   "cell_type": "code",
   "execution_count": 57,
   "id": "4ee2a72d",
   "metadata": {},
   "outputs": [],
   "source": [
    "from sklearn.model_selection import train_test_split\n",
    "X_train, X_test, y_train, y_test=train_test_split(\n",
    "X, y, test_size=0.33,random_state=42)"
   ]
  },
  {
   "cell_type": "code",
   "execution_count": 58,
   "id": "4f49d133",
   "metadata": {},
   "outputs": [],
   "source": [
    "from sklearn.linear_model import LogisticRegression"
   ]
  },
  {
   "cell_type": "code",
   "execution_count": 59,
   "id": "22194f7a",
   "metadata": {},
   "outputs": [],
   "source": [
    "model=LogisticRegression()"
   ]
  },
  {
   "cell_type": "code",
   "execution_count": 60,
   "id": "3ddbab6d",
   "metadata": {},
   "outputs": [
    {
     "data": {
      "text/plain": [
       "LogisticRegression()"
      ]
     },
     "execution_count": 60,
     "metadata": {},
     "output_type": "execute_result"
    }
   ],
   "source": [
    "model.fit(X_train,y_train)"
   ]
  },
  {
   "cell_type": "code",
   "execution_count": 61,
   "id": "ad209754",
   "metadata": {},
   "outputs": [
    {
     "data": {
      "text/plain": [
       "array([0, 0, 0, ..., 1, 0, 0], dtype=uint8)"
      ]
     },
     "execution_count": 61,
     "metadata": {},
     "output_type": "execute_result"
    }
   ],
   "source": [
    "model.predict(X_test)"
   ]
  },
  {
   "cell_type": "code",
   "execution_count": 62,
   "id": "29fd5b54",
   "metadata": {},
   "outputs": [],
   "source": [
    "from sklearn.metrics import accuracy_score"
   ]
  },
  {
   "cell_type": "code",
   "execution_count": 63,
   "id": "3ab1560a",
   "metadata": {},
   "outputs": [],
   "source": [
    "pred=model.predict(X_test)"
   ]
  },
  {
   "cell_type": "code",
   "execution_count": 64,
   "id": "a9352236",
   "metadata": {},
   "outputs": [
    {
     "data": {
      "text/plain": [
       "array([0, 0, 0, ..., 1, 0, 0], dtype=uint8)"
      ]
     },
     "execution_count": 64,
     "metadata": {},
     "output_type": "execute_result"
    }
   ],
   "source": [
    "pred"
   ]
  },
  {
   "cell_type": "code",
   "execution_count": 65,
   "id": "31b715d4",
   "metadata": {},
   "outputs": [],
   "source": [
    "accuracy=accuracy_score(pred,y_test)"
   ]
  },
  {
   "cell_type": "code",
   "execution_count": 66,
   "id": "6d427b68",
   "metadata": {},
   "outputs": [
    {
     "data": {
      "text/plain": [
       "0.9999936659952622"
      ]
     },
     "execution_count": 66,
     "metadata": {},
     "output_type": "execute_result"
    }
   ],
   "source": [
    "accuracy"
   ]
  },
  {
   "cell_type": "code",
   "execution_count": 67,
   "id": "91099c1a",
   "metadata": {},
   "outputs": [],
   "source": [
    "# DecisionTreeClassifier"
   ]
  },
  {
   "cell_type": "code",
   "execution_count": 68,
   "id": "0f3e1945",
   "metadata": {},
   "outputs": [],
   "source": [
    "from sklearn.tree import DecisionTreeClassifier"
   ]
  },
  {
   "cell_type": "code",
   "execution_count": 69,
   "id": "06782828",
   "metadata": {},
   "outputs": [],
   "source": [
    "classifier=DecisionTreeClassifier()"
   ]
  },
  {
   "cell_type": "code",
   "execution_count": 70,
   "id": "92aea7f8",
   "metadata": {},
   "outputs": [
    {
     "data": {
      "text/plain": [
       "DecisionTreeClassifier()"
      ]
     },
     "execution_count": 70,
     "metadata": {},
     "output_type": "execute_result"
    }
   ],
   "source": [
    "classifier.fit(X_train,y_train)"
   ]
  },
  {
   "cell_type": "code",
   "execution_count": 71,
   "id": "6becb70d",
   "metadata": {},
   "outputs": [],
   "source": [
    "y_pred=classifier.predict(X_test)"
   ]
  },
  {
   "cell_type": "code",
   "execution_count": 72,
   "id": "fde0328e",
   "metadata": {},
   "outputs": [
    {
     "data": {
      "text/plain": [
       "array([0, 0, 0, ..., 1, 0, 0], dtype=uint8)"
      ]
     },
     "execution_count": 72,
     "metadata": {},
     "output_type": "execute_result"
    }
   ],
   "source": [
    "y_pred"
   ]
  },
  {
   "cell_type": "code",
   "execution_count": 73,
   "id": "85a79683",
   "metadata": {},
   "outputs": [],
   "source": [
    "acc1=accuracy_score(y_pred,y_test)"
   ]
  },
  {
   "cell_type": "code",
   "execution_count": 74,
   "id": "24d5147e",
   "metadata": {},
   "outputs": [
    {
     "data": {
      "text/plain": [
       "1.0"
      ]
     },
     "execution_count": 74,
     "metadata": {},
     "output_type": "execute_result"
    }
   ],
   "source": [
    "acc1"
   ]
  },
  {
   "cell_type": "code",
   "execution_count": 75,
   "id": "a4c3bb33",
   "metadata": {},
   "outputs": [],
   "source": [
    "# Random forest Classifier"
   ]
  },
  {
   "cell_type": "code",
   "execution_count": 76,
   "id": "0bb0fd9b",
   "metadata": {},
   "outputs": [],
   "source": [
    "from sklearn.ensemble import RandomForestClassifier"
   ]
  },
  {
   "cell_type": "code",
   "execution_count": 77,
   "id": "b72f03e3",
   "metadata": {},
   "outputs": [],
   "source": [
    "random=RandomForestClassifier()"
   ]
  },
  {
   "cell_type": "code",
   "execution_count": 78,
   "id": "f6fad024",
   "metadata": {},
   "outputs": [
    {
     "data": {
      "text/plain": [
       "RandomForestClassifier()"
      ]
     },
     "execution_count": 78,
     "metadata": {},
     "output_type": "execute_result"
    }
   ],
   "source": [
    "random.fit(X_train,y_train)"
   ]
  },
  {
   "cell_type": "code",
   "execution_count": 79,
   "id": "7f11631b",
   "metadata": {},
   "outputs": [],
   "source": [
    "pred1=random.predict(X_test)"
   ]
  },
  {
   "cell_type": "code",
   "execution_count": 80,
   "id": "674e383e",
   "metadata": {},
   "outputs": [
    {
     "data": {
      "text/plain": [
       "array([0, 0, 0, ..., 1, 0, 0], dtype=uint8)"
      ]
     },
     "execution_count": 80,
     "metadata": {},
     "output_type": "execute_result"
    }
   ],
   "source": [
    "pred1"
   ]
  },
  {
   "cell_type": "code",
   "execution_count": 81,
   "id": "08f6be21",
   "metadata": {},
   "outputs": [],
   "source": [
    "accuracy1=accuracy_score(pred1,y_test)"
   ]
  },
  {
   "cell_type": "code",
   "execution_count": 82,
   "id": "57e6c210",
   "metadata": {},
   "outputs": [
    {
     "data": {
      "text/plain": [
       "1.0"
      ]
     },
     "execution_count": 82,
     "metadata": {},
     "output_type": "execute_result"
    }
   ],
   "source": [
    "accuracy1"
   ]
  },
  {
   "cell_type": "code",
   "execution_count": 83,
   "id": "5af3f9e2",
   "metadata": {},
   "outputs": [],
   "source": [
    "# adaboost classifier"
   ]
  },
  {
   "cell_type": "code",
   "execution_count": 84,
   "id": "24bd4e88",
   "metadata": {},
   "outputs": [],
   "source": [
    "from sklearn.ensemble import AdaBoostClassifier\n",
    "abc=AdaBoostClassifier(n_estimators=40,learning_rate=0.01)"
   ]
  },
  {
   "cell_type": "code",
   "execution_count": 85,
   "id": "665157e7",
   "metadata": {},
   "outputs": [],
   "source": [
    "model=abc.fit(X_train,y_train)"
   ]
  },
  {
   "cell_type": "code",
   "execution_count": 86,
   "id": "296ee329",
   "metadata": {},
   "outputs": [
    {
     "data": {
      "text/plain": [
       "AdaBoostClassifier(learning_rate=0.01, n_estimators=40)"
      ]
     },
     "execution_count": 86,
     "metadata": {},
     "output_type": "execute_result"
    }
   ],
   "source": [
    "model"
   ]
  },
  {
   "cell_type": "code",
   "execution_count": 87,
   "id": "b1c1df17",
   "metadata": {},
   "outputs": [],
   "source": [
    "y_predi=model.predict(X_test)"
   ]
  },
  {
   "cell_type": "code",
   "execution_count": 88,
   "id": "630508cb",
   "metadata": {},
   "outputs": [
    {
     "data": {
      "text/plain": [
       "array([0, 0, 0, ..., 0, 0, 0], dtype=uint8)"
      ]
     },
     "execution_count": 88,
     "metadata": {},
     "output_type": "execute_result"
    }
   ],
   "source": [
    "y_predi"
   ]
  },
  {
   "cell_type": "code",
   "execution_count": 89,
   "id": "8aff67c1",
   "metadata": {},
   "outputs": [],
   "source": [
    "acc2=accuracy_score(y_predi,y_test)"
   ]
  },
  {
   "cell_type": "code",
   "execution_count": 90,
   "id": "1cd6ea89",
   "metadata": {},
   "outputs": [
    {
     "data": {
      "text/plain": [
       "0.8868493393633058"
      ]
     },
     "execution_count": 90,
     "metadata": {},
     "output_type": "execute_result"
    }
   ],
   "source": [
    "acc2"
   ]
  },
  {
   "cell_type": "code",
   "execution_count": 91,
   "id": "d7405360",
   "metadata": {},
   "outputs": [],
   "source": [
    "# Gradient Boosting Classifier"
   ]
  },
  {
   "cell_type": "code",
   "execution_count": 102,
   "id": "4e807e3c",
   "metadata": {},
   "outputs": [],
   "source": [
    "from sklearn.ensemble import GradientBoostingClassifier"
   ]
  },
  {
   "cell_type": "code",
   "execution_count": 135,
   "id": "83f6f8b6",
   "metadata": {},
   "outputs": [],
   "source": [
    "gradient_booster=GradientBoostingClassifier(learning_rate=0.01)"
   ]
  },
  {
   "cell_type": "code",
   "execution_count": 136,
   "id": "4d1ef36d",
   "metadata": {},
   "outputs": [
    {
     "data": {
      "text/plain": [
       "GradientBoostingClassifier(learning_rate=0.001)"
      ]
     },
     "execution_count": 136,
     "metadata": {},
     "output_type": "execute_result"
    }
   ],
   "source": [
    "gradient_booster.fit(X_train,y_train)"
   ]
  },
  {
   "cell_type": "code",
   "execution_count": 137,
   "id": "685fa7d3",
   "metadata": {},
   "outputs": [],
   "source": [
    "g_pred=gradient_booster.predict(X_test)"
   ]
  },
  {
   "cell_type": "code",
   "execution_count": 138,
   "id": "a0e64ad7",
   "metadata": {},
   "outputs": [
    {
     "data": {
      "text/plain": [
       "array([0, 0, 0, ..., 0, 0, 0], dtype=uint8)"
      ]
     },
     "execution_count": 138,
     "metadata": {},
     "output_type": "execute_result"
    }
   ],
   "source": [
    "g_pred"
   ]
  },
  {
   "cell_type": "code",
   "execution_count": 139,
   "id": "4a19f6cc",
   "metadata": {},
   "outputs": [],
   "source": [
    "accuray1=accuracy_score(g_pred,y_test)"
   ]
  },
  {
   "cell_type": "code",
   "execution_count": 140,
   "id": "16c00787",
   "metadata": {},
   "outputs": [
    {
     "data": {
      "text/plain": [
       "1.0"
      ]
     },
     "execution_count": 140,
     "metadata": {},
     "output_type": "execute_result"
    }
   ],
   "source": [
    "accuracy1"
   ]
  },
  {
   "cell_type": "code",
   "execution_count": 141,
   "id": "cae96cb4",
   "metadata": {},
   "outputs": [],
   "source": [
    "# XgBoosttClassifier"
   ]
  },
  {
   "cell_type": "code",
   "execution_count": 142,
   "id": "dc889e1f",
   "metadata": {},
   "outputs": [],
   "source": [
    "from xgboost import XGBClassifier\n",
    "from sklearn.metrics import accuracy_score"
   ]
  },
  {
   "cell_type": "code",
   "execution_count": 143,
   "id": "b2b5def3",
   "metadata": {},
   "outputs": [],
   "source": [
    "model=XGBClassifier()"
   ]
  },
  {
   "cell_type": "code",
   "execution_count": 112,
   "id": "af427a5f",
   "metadata": {},
   "outputs": [
    {
     "data": {
      "text/plain": [
       "XGBClassifier(base_score=None, booster=None, callbacks=None,\n",
       "              colsample_bylevel=None, colsample_bynode=None,\n",
       "              colsample_bytree=None, early_stopping_rounds=None,\n",
       "              enable_categorical=False, eval_metric=None, feature_types=None,\n",
       "              gamma=None, gpu_id=None, grow_policy=None, importance_type=None,\n",
       "              interaction_constraints=None, learning_rate=None, max_bin=None,\n",
       "              max_cat_threshold=None, max_cat_to_onehot=None,\n",
       "              max_delta_step=None, max_depth=None, max_leaves=None,\n",
       "              min_child_weight=None, missing=nan, monotone_constraints=None,\n",
       "              n_estimators=100, n_jobs=None, num_parallel_tree=None,\n",
       "              predictor=None, random_state=None, ...)"
      ]
     },
     "execution_count": 112,
     "metadata": {},
     "output_type": "execute_result"
    }
   ],
   "source": [
    "model.fit(X_train,y_train)"
   ]
  },
  {
   "cell_type": "code",
   "execution_count": 113,
   "id": "bdc91d95",
   "metadata": {},
   "outputs": [
    {
     "data": {
      "text/plain": [
       "XGBClassifier(base_score=0.5, booster='gbtree', callbacks=None,\n",
       "              colsample_bylevel=None, colsample_bynode=None,\n",
       "              colsample_bytree=None, early_stopping_rounds=None,\n",
       "              enable_categorical=False, eval_metric=None, feature_types=None,\n",
       "              gamma=None, gpu_id=None, grow_policy=None, importance_type=None,\n",
       "              interaction_constraints=None, learning_rate=None, max_bin=None,\n",
       "              max_cat_threshold=None, max_cat_to_onehot=None,\n",
       "              max_delta_step=None, max_depth=None, max_leaves=None,\n",
       "              min_child_weight=None, missing=nan, monotone_constraints=None,\n",
       "              n_estimators=100, n_jobs=None, num_parallel_tree=None,\n",
       "              predictor=None, random_state=42, ...)"
      ]
     },
     "execution_count": 113,
     "metadata": {},
     "output_type": "execute_result"
    }
   ],
   "source": [
    "XGBClassifier(base_score=0.5,booster='gbtree',n_estimators=100,random_state=42)"
   ]
  },
  {
   "cell_type": "code",
   "execution_count": 114,
   "id": "143844ef",
   "metadata": {},
   "outputs": [],
   "source": [
    "x_pred=model.predict(X_test)"
   ]
  },
  {
   "cell_type": "code",
   "execution_count": 115,
   "id": "cfdbdde2",
   "metadata": {},
   "outputs": [
    {
     "data": {
      "text/plain": [
       "array([0, 0, 0, ..., 1, 0, 0])"
      ]
     },
     "execution_count": 115,
     "metadata": {},
     "output_type": "execute_result"
    }
   ],
   "source": [
    "x_pred"
   ]
  },
  {
   "cell_type": "code",
   "execution_count": 116,
   "id": "0616f939",
   "metadata": {},
   "outputs": [],
   "source": [
    "score=accuracy_score(x_pred,y_test)"
   ]
  },
  {
   "cell_type": "code",
   "execution_count": 117,
   "id": "4a9a06cf",
   "metadata": {},
   "outputs": [
    {
     "data": {
      "text/plain": [
       "0.9999936659952622"
      ]
     },
     "execution_count": 117,
     "metadata": {},
     "output_type": "execute_result"
    }
   ],
   "source": [
    "score"
   ]
  },
  {
   "cell_type": "code",
   "execution_count": null,
   "id": "cc6373ae",
   "metadata": {},
   "outputs": [],
   "source": []
  },
  {
   "cell_type": "code",
   "execution_count": null,
   "id": "1862a323",
   "metadata": {},
   "outputs": [],
   "source": []
  },
  {
   "cell_type": "code",
   "execution_count": null,
   "id": "08c32d17",
   "metadata": {},
   "outputs": [],
   "source": []
  },
  {
   "cell_type": "code",
   "execution_count": null,
   "id": "6dafc493",
   "metadata": {},
   "outputs": [],
   "source": []
  },
  {
   "cell_type": "code",
   "execution_count": null,
   "id": "ec9ac25d",
   "metadata": {},
   "outputs": [],
   "source": []
  },
  {
   "cell_type": "code",
   "execution_count": null,
   "id": "9bcbf8f2",
   "metadata": {},
   "outputs": [],
   "source": []
  },
  {
   "cell_type": "code",
   "execution_count": null,
   "id": "37b49264",
   "metadata": {},
   "outputs": [],
   "source": []
  }
 ],
 "metadata": {
  "kernelspec": {
   "display_name": "Python 3 (ipykernel)",
   "language": "python",
   "name": "python3"
  },
  "language_info": {
   "codemirror_mode": {
    "name": "ipython",
    "version": 3
   },
   "file_extension": ".py",
   "mimetype": "text/x-python",
   "name": "python",
   "nbconvert_exporter": "python",
   "pygments_lexer": "ipython3",
   "version": "3.9.13"
  }
 },
 "nbformat": 4,
 "nbformat_minor": 5
}
